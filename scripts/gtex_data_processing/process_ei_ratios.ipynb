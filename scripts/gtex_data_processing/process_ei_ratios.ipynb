{
 "cells": [
  {
   "cell_type": "markdown",
   "id": "3f0128fe-74b0-4238-b25e-c8af98bbccfb",
   "metadata": {},
   "source": [
    "# Processing Exonic/Intronic ratios"
   ]
  },
  {
   "cell_type": "code",
   "execution_count": null,
   "id": "94a4665c-7739-4527-b9ef-1cc06e78e761",
   "metadata": {
    "tags": []
   },
   "outputs": [],
   "source": [
    "import pandas as pd\n",
    "import numpy as np\n",
    "from plotnine import *"
   ]
  },
  {
   "cell_type": "code",
   "execution_count": null,
   "id": "906ae341-3f26-419e-bb7a-123f01d7841a",
   "metadata": {},
   "outputs": [],
   "source": [
    "data_path = '../../data/'"
   ]
  },
  {
   "cell_type": "markdown",
   "id": "69557bbb-ce39-467d-b647-7375c3e12f9b",
   "metadata": {},
   "source": [
    "GTEx's samples can be attributed to major tissues or subtissues. Subtissues are a more detailed description of the tissue the samples belong to and are a subset of the major tissues. "
   ]
  },
  {
   "cell_type": "markdown",
   "id": "da81f407-2f82-4761-b885-0d08340a4a73",
   "metadata": {},
   "source": [
    "## Subtissues"
   ]
  },
  {
   "cell_type": "markdown",
   "id": "88db69ab-07c3-443c-a796-9f62b2b0fd60",
   "metadata": {},
   "source": [
    "We will have to filter the genes by expressed only per tissue and select the major transcripts afterwards"
   ]
  },
  {
   "cell_type": "code",
   "execution_count": null,
   "id": "1418e04c-a4ef-4e86-8881-694d8a4805fc",
   "metadata": {
    "tags": []
   },
   "outputs": [],
   "source": [
    "ei_ratios_df = pd.read_csv(data_path+'EI-ratios-masked.csv')"
   ]
  },
  {
   "cell_type": "code",
   "execution_count": null,
   "id": "f029ef73-d728-4bd5-a6d2-965474f74597",
   "metadata": {},
   "outputs": [],
   "source": [
    "ei_ratios_df"
   ]
  },
  {
   "cell_type": "code",
   "execution_count": null,
   "id": "164f70b3-7a19-4197-9e6c-364263fb6540",
   "metadata": {},
   "outputs": [],
   "source": [
    "ei_ratios_df = ei_ratios_df.rename({'gene.id':'gene_id'}, axis=1).set_index('gene_id')\n",
    "ei_ratios_df"
   ]
  },
  {
   "cell_type": "markdown",
   "id": "1f8df411-321f-4928-8347-927457a2e171",
   "metadata": {},
   "source": [
    "Let's load the annotations of the samples from gtex:"
   ]
  },
  {
   "cell_type": "code",
   "execution_count": null,
   "id": "649e5fca-be31-4722-a863-92bde05d261c",
   "metadata": {},
   "outputs": [],
   "source": [
    "gtex_annotation = pd.read_csv(data_path+'gtex_sample_metadata_public.csv', index_col=0)\n",
    "gtex_annotation"
   ]
  },
  {
   "cell_type": "code",
   "execution_count": null,
   "id": "fbd15a15-0ebe-42cd-a9cd-3a54920f37f4",
   "metadata": {},
   "outputs": [],
   "source": [
    "ei_ratios_df = ei_ratios_df.T.merge(gtex_annotation.loc[:, ['sample.id', 'SMTSD']], left_index=True, right_on='sample.id')\n",
    "ei_ratios_df"
   ]
  },
  {
   "cell_type": "markdown",
   "id": "fb337ada-290f-4ca4-85fa-e1fba149fa60",
   "metadata": {},
   "source": [
    "Reading major isoforms table:"
   ]
  },
  {
   "cell_type": "code",
   "execution_count": null,
   "id": "cdbfe2e4-110c-44a6-b295-1920f88f3cc2",
   "metadata": {},
   "outputs": [],
   "source": [
    "major_iso_df = pd.read_csv(data_path+'gtex_major_isoform_per_subtissue.csv').set_index('gene_id')\n",
    "major_iso_df"
   ]
  },
  {
   "cell_type": "code",
   "execution_count": null,
   "id": "1932ef99-76c6-4def-8699-2420feac488d",
   "metadata": {},
   "outputs": [],
   "source": [
    "samples_ei_df_melted = ei_ratios_df.melt(id_vars=['sample.id', 'SMTSD'], var_name='gene_id', value_name='ei_ratio')\n",
    "samples_ei_df_melted"
   ]
  },
  {
   "cell_type": "markdown",
   "id": "b22d7b35-b084-4bc8-82b0-466ee80d6365",
   "metadata": {},
   "source": [
    "Let's melt the major isoforms table so we can merge it with the samples"
   ]
  },
  {
   "cell_type": "code",
   "execution_count": null,
   "id": "a38241a1-0141-4e3e-8f1d-ac1358c47bc9",
   "metadata": {},
   "outputs": [],
   "source": [
    "melted_major_isoforms = pd.melt(major_iso_df.reset_index(), id_vars='gene_id', value_name='major_isoform', var_name='subtissue')\n",
    "melted_major_isoforms = melted_major_isoforms.dropna()\n",
    "melted_major_isoforms"
   ]
  },
  {
   "cell_type": "code",
   "execution_count": null,
   "id": "c6423615-dc91-4080-8b24-c21c90d33cbd",
   "metadata": {},
   "outputs": [],
   "source": [
    "samples_mi_ei_df = samples_ei_df_melted.merge(melted_major_isoforms, left_on=['gene_id', 'SMTSD'], right_on=['gene_id', 'subtissue'], how='left')\n",
    "samples_mi_ei_df"
   ]
  },
  {
   "cell_type": "markdown",
   "id": "1e9c5fb9-013d-4350-912c-2a04dc0fb43e",
   "metadata": {},
   "source": [
    "Drop nas (which corrrespond to non expressed genes)"
   ]
  },
  {
   "cell_type": "code",
   "execution_count": null,
   "id": "7d997060-7897-40e7-bf57-d319e84d93a7",
   "metadata": {},
   "outputs": [],
   "source": [
    "samples_mi_ei_df = samples_mi_ei_df.dropna()\n",
    "samples_mi_ei_df"
   ]
  },
  {
   "cell_type": "code",
   "execution_count": null,
   "id": "f9405952-a216-4ce7-a488-8d0e4d9b697c",
   "metadata": {
    "tags": []
   },
   "outputs": [],
   "source": [
    "major_iso_df = samples_mi_ei_df.pivot(values='ei_ratio', columns='sample.id', index='major_isoform')\n",
    "major_iso_df"
   ]
  },
  {
   "cell_type": "code",
   "execution_count": null,
   "id": "baad44ba-a126-4d1a-bfae-f30b3b84aae4",
   "metadata": {},
   "outputs": [],
   "source": [
    "thresh = int((2/3) * len(major_iso_df.columns)) #keep transcripts which are expressed in more than 2/3s of the samples\n",
    "thresh"
   ]
  },
  {
   "cell_type": "code",
   "execution_count": null,
   "id": "6ba644fb-5a0d-491e-bbc8-96cb65a00bd1",
   "metadata": {},
   "outputs": [],
   "source": [
    "ei_iso_df_non_centered_t = major_iso_df.dropna(thresh=thresh)\n",
    "ei_iso_df_non_centered_t"
   ]
  },
  {
   "cell_type": "code",
   "execution_count": null,
   "id": "a4026b4a-3cab-4da4-818a-272631d0093b",
   "metadata": {},
   "outputs": [],
   "source": [
    "ei_subtissue_df =  gtex_annotation.loc[:, ['sample.id','SMTSD']].set_index(\n",
    "    'sample.id').join(ei_iso_df_non_centered_t.T, how='inner')\n",
    "ei_subtissue_df"
   ]
  },
  {
   "cell_type": "markdown",
   "id": "449dc972-4a54-4d96-a47b-032916e9f5ec",
   "metadata": {},
   "source": [
    "In order to get a exon/intron ratio value per tissue, the median EI ratio per major isoform is taken."
   ]
  },
  {
   "cell_type": "code",
   "execution_count": null,
   "id": "4fdf048c-3a28-497f-b787-8c7d2375b746",
   "metadata": {},
   "outputs": [],
   "source": [
    "ei_subtissue_df = ei_subtissue_df.groupby('SMTSD').median().T\n",
    "ei_subtissue_df"
   ]
  },
  {
   "cell_type": "code",
   "execution_count": null,
   "id": "77ed4a3c-4e29-40bc-91ab-1647d6e4a7fa",
   "metadata": {},
   "outputs": [],
   "source": [
    "thresh = int((.85) * len(ei_subtissue_df.columns)) #keep transcripts which are expressed in more than 85% of the tissues\n",
    "thresh"
   ]
  },
  {
   "cell_type": "code",
   "execution_count": null,
   "id": "06c7affe-a33a-4633-893e-8a8fe3efb516",
   "metadata": {},
   "outputs": [],
   "source": [
    "ei_subtissue_df = ei_subtissue_df.dropna(thresh=thresh)\n",
    "ei_subtissue_df"
   ]
  },
  {
   "cell_type": "code",
   "execution_count": null,
   "id": "c39df9a2-ee86-4d49-ae16-f3cc0190e1fd",
   "metadata": {},
   "outputs": [],
   "source": [
    "ei_subtissue_centered_df = ei_subtissue_df.sub(ei_subtissue_df.mean(axis=1), axis=0)\n",
    "ei_subtissue_centered_df"
   ]
  },
  {
   "cell_type": "code",
   "execution_count": null,
   "id": "26c13027-bf24-4714-ab9a-57c4fd09a06e",
   "metadata": {},
   "outputs": [],
   "source": [
    "ei_subtissue_centered_df.to_csv(data_path+'gtex_ei_ratio_subtissues_85_percent_non_nas.csv')"
   ]
  },
  {
   "cell_type": "markdown",
   "id": "c8154621-cff0-4cd6-b865-a1bc88edd563",
   "metadata": {},
   "source": [
    "## Major tissues"
   ]
  },
  {
   "cell_type": "code",
   "execution_count": null,
   "id": "6dad1056-7493-42f2-8a27-84502affe587",
   "metadata": {
    "tags": []
   },
   "outputs": [],
   "source": [
    "ei_ratios_df = pd.read_csv(data_path+'EI-ratios-masked.csv')"
   ]
  },
  {
   "cell_type": "code",
   "execution_count": null,
   "id": "3cfddf84-9b3a-49fe-81fd-49e5057af81e",
   "metadata": {},
   "outputs": [],
   "source": [
    "ei_ratios_df"
   ]
  },
  {
   "cell_type": "code",
   "execution_count": null,
   "id": "5ec196cb-5fb6-44b3-b062-2a7ab28b677e",
   "metadata": {},
   "outputs": [],
   "source": [
    "ei_ratios_df = ei_ratios_df.rename({'gene.id':'gene_id'}, axis=1).set_index('gene_id')\n",
    "ei_ratios_df"
   ]
  },
  {
   "cell_type": "code",
   "execution_count": null,
   "id": "4cb79d5c-4382-4732-935b-f43bc48fafb5",
   "metadata": {},
   "outputs": [],
   "source": [
    "ei_ratios_df = ei_ratios_df.T.merge(gtex_annotation.loc[:, ['sample.id', 'SMTS']], left_index=True, right_on='sample.id')\n",
    "ei_ratios_df"
   ]
  },
  {
   "cell_type": "markdown",
   "id": "e52177ff-f59a-4120-bbdb-cff3317a7f68",
   "metadata": {},
   "source": [
    "Reading major isoforms table:"
   ]
  },
  {
   "cell_type": "code",
   "execution_count": null,
   "id": "0785b4a0-7c8c-40f8-9856-21afee121e63",
   "metadata": {},
   "outputs": [],
   "source": [
    "major_iso_df = pd.read_csv(data_path+'gtex_major_isoform_per_major_tissue.csv').set_index('gene_id')\n",
    "major_iso_df"
   ]
  },
  {
   "cell_type": "code",
   "execution_count": null,
   "id": "65769f0f-ca34-4f88-b874-206cb9faafbb",
   "metadata": {},
   "outputs": [],
   "source": [
    "samples_ei_df_melted = ei_ratios_df.melt(id_vars=['sample.id', 'SMTS'], var_name='gene_id', value_name='ei_ratio')\n",
    "samples_ei_df_melted"
   ]
  },
  {
   "cell_type": "markdown",
   "id": "08ff804d-59d7-4c6c-af97-f2e23a7e7d5d",
   "metadata": {},
   "source": [
    "Let's melt the major isoforms table so we can merge it with the samples"
   ]
  },
  {
   "cell_type": "code",
   "execution_count": null,
   "id": "4f4302a1-e15e-4a5c-9d04-a87b07c3f094",
   "metadata": {},
   "outputs": [],
   "source": [
    "melted_major_isoforms = pd.melt(major_iso_df.reset_index(), id_vars='gene_id', value_name='major_isoform', var_name='tissue')\n",
    "melted_major_isoforms = melted_major_isoforms.dropna()\n",
    "melted_major_isoforms"
   ]
  },
  {
   "cell_type": "code",
   "execution_count": null,
   "id": "da9d63f7-63f0-4ecf-b0f8-7267ed277453",
   "metadata": {},
   "outputs": [],
   "source": [
    "samples_mi_ei_df = samples_ei_df_melted.merge(melted_major_isoforms, left_on=['gene_id', 'SMTS'], right_on=['gene_id', 'tissue'], how='left')\n",
    "samples_mi_ei_df"
   ]
  },
  {
   "cell_type": "markdown",
   "id": "2858eb91-f706-4a19-8ccb-7dbdb66d2204",
   "metadata": {},
   "source": [
    "Drop nas (which corrrespond to non expressed genes)"
   ]
  },
  {
   "cell_type": "code",
   "execution_count": null,
   "id": "a48f6436-268d-4a54-8b5e-2ac51e00ba57",
   "metadata": {},
   "outputs": [],
   "source": [
    "samples_mi_ei_df = samples_mi_ei_df.dropna()\n",
    "samples_mi_ei_df"
   ]
  },
  {
   "cell_type": "code",
   "execution_count": null,
   "id": "041b8d20-890c-48a9-816a-b53904ed57ca",
   "metadata": {
    "tags": []
   },
   "outputs": [],
   "source": [
    "major_iso_df = samples_mi_ei_df.pivot(values='ei_ratio', columns='sample.id', index='major_isoform')\n",
    "major_iso_df"
   ]
  },
  {
   "cell_type": "code",
   "execution_count": null,
   "id": "de812f3f-3779-408d-a835-f4871a4097c3",
   "metadata": {},
   "outputs": [],
   "source": [
    "thresh = int((2/3) * len(major_iso_df.columns)) #keep transcripts which are expressed in more than 2/3s of the samples\n",
    "thresh"
   ]
  },
  {
   "cell_type": "code",
   "execution_count": null,
   "id": "86ababb4-cbcc-4c4e-a7c9-dfab847e461b",
   "metadata": {},
   "outputs": [],
   "source": [
    "ei_iso_df_non_centered_t = major_iso_df.dropna(thresh=thresh)\n",
    "ei_iso_df_non_centered_t"
   ]
  },
  {
   "cell_type": "code",
   "execution_count": null,
   "id": "7378cb76-0eb0-4437-bb9d-8f150b962538",
   "metadata": {},
   "outputs": [],
   "source": [
    "ei_tissue_df =  gtex_annotation.loc[:, ['sample.id','SMTS']].set_index(\n",
    "    'sample.id').join(ei_iso_df_non_centered_t.T, how='inner')\n",
    "ei_tissue_df"
   ]
  },
  {
   "cell_type": "markdown",
   "id": "db2a1933-7382-4180-8f1a-7bd9a3f2543e",
   "metadata": {},
   "source": [
    "In order to get a exon/intron ratio value per tissue, the median EI ratio per major isoform is taken."
   ]
  },
  {
   "cell_type": "code",
   "execution_count": null,
   "id": "d7c85e3d-e863-4f8e-86a7-6c3839c70d17",
   "metadata": {},
   "outputs": [],
   "source": [
    "ei_tissue_df = ei_tissue_df.groupby('SMTS').median().T\n",
    "ei_tissue_df"
   ]
  },
  {
   "cell_type": "code",
   "execution_count": null,
   "id": "514a5426-37d5-4b78-a6a4-bc32d82db42b",
   "metadata": {},
   "outputs": [],
   "source": [
    "thresh = int((.85) * len(ei_tissue_df.columns)) #keep transcripts which are expressed in more than 2/3s of the tissues\n",
    "thresh"
   ]
  },
  {
   "cell_type": "code",
   "execution_count": null,
   "id": "71b9dfd9-f635-4e21-a590-dc4a21e115cb",
   "metadata": {},
   "outputs": [],
   "source": [
    "ei_tissue_df = ei_tissue_df.dropna(thresh=thresh)\n",
    "ei_tissue_df"
   ]
  },
  {
   "cell_type": "code",
   "execution_count": null,
   "id": "d0f6a9b7-0a85-449e-9416-2745f773302a",
   "metadata": {},
   "outputs": [],
   "source": [
    "ei_tissue_centered_df = ei_tissue_df.sub(ei_tissue_df.mean(axis=1), axis=0)\n",
    "ei_tissue_centered_df"
   ]
  },
  {
   "cell_type": "code",
   "execution_count": null,
   "id": "0ec21cc3-79ac-43eb-ae73-d06e4053efa1",
   "metadata": {},
   "outputs": [],
   "source": [
    "ei_tissue_centered_df.to_csv(data_path+'gtex_ei_ratio_major_tissues_85_percent_non_nas.csv')"
   ]
  },
  {
   "cell_type": "code",
   "execution_count": null,
   "id": "a4e2dd26-cf69-45c4-bc8e-0509bc933726",
   "metadata": {},
   "outputs": [],
   "source": []
  }
 ],
 "metadata": {
  "kernelspec": {
   "display_name": "Python [conda env:anaconda-mrna_halflife2]",
   "language": "python",
   "name": "conda-env-anaconda-mrna_halflife2-py"
  },
  "language_info": {
   "codemirror_mode": {
    "name": "ipython",
    "version": 3
   },
   "file_extension": ".py",
   "mimetype": "text/x-python",
   "name": "python",
   "nbconvert_exporter": "python",
   "pygments_lexer": "ipython3",
   "version": "3.7.6"
  }
 },
 "nbformat": 4,
 "nbformat_minor": 5
}
