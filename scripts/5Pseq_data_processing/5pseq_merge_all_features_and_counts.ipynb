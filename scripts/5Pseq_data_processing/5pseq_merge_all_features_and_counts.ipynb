{
 "cells": [
  {
   "cell_type": "markdown",
   "id": "83445a67-a81a-4c9e-9e03-66aa70b29bd5",
   "metadata": {},
   "source": [
    "# Processing of the counts+features files"
   ]
  },
  {
   "cell_type": "code",
   "execution_count": 1,
   "id": "6b2506a9-ecd1-4dcd-ba1f-73e50a98cb1a",
   "metadata": {},
   "outputs": [],
   "source": [
    "import pandas as pd\n",
    "import numpy as np\n",
    "from plotnine import *\n",
    "import os"
   ]
  },
  {
   "cell_type": "code",
   "execution_count": 2,
   "id": "797f2e90-7db9-4761-bb5c-2bdb6a04e67f",
   "metadata": {},
   "outputs": [],
   "source": [
    "data_path='../data/'"
   ]
  },
  {
   "cell_type": "code",
   "execution_count": 3,
   "id": "9561eeb8-b445-4fe6-a6dd-e8ab2df2df7b",
   "metadata": {},
   "outputs": [
    {
     "data": {
      "text/plain": [
       "0       Trehalose_t5_2_S9_counts_features.csv\n",
       "1      Trehalose_t-5_2_S6_counts_features.csv\n",
       "2     Trehalose_t10_2_S10_counts_features.csv\n",
       "3     Trehalose_t-5_3_S11_counts_features.csv\n",
       "4     Trehalose_t10_3_S15_counts_features.csv\n",
       "5      Trehalose_t5_3_S14_counts_features.csv\n",
       "6       Trehalose_t2_2_S8_counts_features.csv\n",
       "7      Trehalose_t-5_1_S1_counts_features.csv\n",
       "8       Trehalose_t5_1_S4_counts_features.csv\n",
       "9      Trehalose_t2_3_S13_counts_features.csv\n",
       "10     Trehalose_t0_3_S12_counts_features.csv\n",
       "11     Trehalose_t10_1_S5_counts_features.csv\n",
       "12      Trehalose_t0_2_S7_counts_features.csv\n",
       "13      Trehalose_t2_1_S3_counts_features.csv\n",
       "14      Trehalose_t0_1_S2_counts_features.csv\n",
       "dtype: object"
      ]
     },
     "execution_count": 3,
     "metadata": {},
     "output_type": "execute_result"
    }
   ],
   "source": [
    "samples_dir = data_path + '5p_counts_with_features/'\n",
    "all_samples_files = pd.Series(os.listdir(samples_dir))\n",
    "all_samples_files"
   ]
  },
  {
   "cell_type": "code",
   "execution_count": 4,
   "id": "b385948b-a772-4afd-9099-2544bd60548b",
   "metadata": {
    "collapsed": true,
    "jupyter": {
     "outputs_hidden": true
    },
    "tags": []
   },
   "outputs": [
    {
     "data": {
      "text/plain": [
       "['Trehalose_t5_2_S9_counts_features.csv',\n",
       " 'Trehalose_t-5_2_S6_counts_features.csv',\n",
       " 'Trehalose_t10_2_S10_counts_features.csv',\n",
       " 'Trehalose_t-5_3_S11_counts_features.csv',\n",
       " 'Trehalose_t10_3_S15_counts_features.csv',\n",
       " 'Trehalose_t5_3_S14_counts_features.csv',\n",
       " 'Trehalose_t2_2_S8_counts_features.csv',\n",
       " 'Trehalose_t-5_1_S1_counts_features.csv',\n",
       " 'Trehalose_t5_1_S4_counts_features.csv',\n",
       " 'Trehalose_t2_3_S13_counts_features.csv',\n",
       " 'Trehalose_t0_3_S12_counts_features.csv',\n",
       " 'Trehalose_t10_1_S5_counts_features.csv',\n",
       " 'Trehalose_t0_2_S7_counts_features.csv',\n",
       " 'Trehalose_t2_1_S3_counts_features.csv',\n",
       " 'Trehalose_t0_1_S2_counts_features.csv']"
      ]
     },
     "execution_count": 4,
     "metadata": {},
     "output_type": "execute_result"
    }
   ],
   "source": [
    "trehalose_series_files = all_samples_files.to_list()\n",
    "trehalose_series_files"
   ]
  },
  {
   "cell_type": "code",
   "execution_count": 5,
   "id": "c6ac6f1e-8546-4d4d-a582-88490d561bae",
   "metadata": {},
   "outputs": [
    {
     "name": "stderr",
     "output_type": "stream",
     "text": [
      "/opt/modules/i12g/anaconda/envs/mrna_halflife2/lib/python3.7/site-packages/numpy/lib/arraysetops.py:569: FutureWarning: elementwise comparison failed; returning scalar instead, but in the future will perform elementwise comparison\n"
     ]
    },
    {
     "data": {
      "text/html": [
       "<div>\n",
       "<style scoped>\n",
       "    .dataframe tbody tr th:only-of-type {\n",
       "        vertical-align: middle;\n",
       "    }\n",
       "\n",
       "    .dataframe tbody tr th {\n",
       "        vertical-align: top;\n",
       "    }\n",
       "\n",
       "    .dataframe thead th {\n",
       "        text-align: right;\n",
       "    }\n",
       "</style>\n",
       "<table border=\"1\" class=\"dataframe\">\n",
       "  <thead>\n",
       "    <tr style=\"text-align: right;\">\n",
       "      <th></th>\n",
       "      <th>gene_id</th>\n",
       "      <th>position_from_start</th>\n",
       "      <th>counts</th>\n",
       "      <th>a_site_codon</th>\n",
       "      <th>sample</th>\n",
       "    </tr>\n",
       "  </thead>\n",
       "  <tbody>\n",
       "    <tr>\n",
       "      <th>0</th>\n",
       "      <td>YAL001C</td>\n",
       "      <td>6</td>\n",
       "      <td>0</td>\n",
       "      <td>CTG</td>\n",
       "      <td>Trehalose_t5_2</td>\n",
       "    </tr>\n",
       "    <tr>\n",
       "      <th>1</th>\n",
       "      <td>YAL001C</td>\n",
       "      <td>9</td>\n",
       "      <td>0</td>\n",
       "      <td>ACG</td>\n",
       "      <td>Trehalose_t5_2</td>\n",
       "    </tr>\n",
       "    <tr>\n",
       "      <th>2</th>\n",
       "      <td>YAL001C</td>\n",
       "      <td>12</td>\n",
       "      <td>0</td>\n",
       "      <td>ATT</td>\n",
       "      <td>Trehalose_t5_2</td>\n",
       "    </tr>\n",
       "    <tr>\n",
       "      <th>3</th>\n",
       "      <td>YAL001C</td>\n",
       "      <td>15</td>\n",
       "      <td>0</td>\n",
       "      <td>TAT</td>\n",
       "      <td>Trehalose_t5_2</td>\n",
       "    </tr>\n",
       "    <tr>\n",
       "      <th>4</th>\n",
       "      <td>YAL001C</td>\n",
       "      <td>18</td>\n",
       "      <td>0</td>\n",
       "      <td>CCT</td>\n",
       "      <td>Trehalose_t5_2</td>\n",
       "    </tr>\n",
       "    <tr>\n",
       "      <th>...</th>\n",
       "      <td>...</td>\n",
       "      <td>...</td>\n",
       "      <td>...</td>\n",
       "      <td>...</td>\n",
       "      <td>...</td>\n",
       "    </tr>\n",
       "    <tr>\n",
       "      <th>37592053</th>\n",
       "      <td>YPR199C</td>\n",
       "      <td>867</td>\n",
       "      <td>0</td>\n",
       "      <td>TTT</td>\n",
       "      <td>Trehalose_t0_1</td>\n",
       "    </tr>\n",
       "    <tr>\n",
       "      <th>37592054</th>\n",
       "      <td>YPR199C</td>\n",
       "      <td>870</td>\n",
       "      <td>0</td>\n",
       "      <td>TCG</td>\n",
       "      <td>Trehalose_t0_1</td>\n",
       "    </tr>\n",
       "    <tr>\n",
       "      <th>37592055</th>\n",
       "      <td>YPR199C</td>\n",
       "      <td>873</td>\n",
       "      <td>1</td>\n",
       "      <td>TCA</td>\n",
       "      <td>Trehalose_t0_1</td>\n",
       "    </tr>\n",
       "    <tr>\n",
       "      <th>37592056</th>\n",
       "      <td>YPR199C</td>\n",
       "      <td>876</td>\n",
       "      <td>0</td>\n",
       "      <td>AAA</td>\n",
       "      <td>Trehalose_t0_1</td>\n",
       "    </tr>\n",
       "    <tr>\n",
       "      <th>37592057</th>\n",
       "      <td>YPR199C</td>\n",
       "      <td>879</td>\n",
       "      <td>0</td>\n",
       "      <td>TTA</td>\n",
       "      <td>Trehalose_t0_1</td>\n",
       "    </tr>\n",
       "  </tbody>\n",
       "</table>\n",
       "<p>37592058 rows × 5 columns</p>\n",
       "</div>"
      ],
      "text/plain": [
       "          gene_id  position_from_start  counts a_site_codon          sample\n",
       "0         YAL001C                    6       0          CTG  Trehalose_t5_2\n",
       "1         YAL001C                    9       0          ACG  Trehalose_t5_2\n",
       "2         YAL001C                   12       0          ATT  Trehalose_t5_2\n",
       "3         YAL001C                   15       0          TAT  Trehalose_t5_2\n",
       "4         YAL001C                   18       0          CCT  Trehalose_t5_2\n",
       "...           ...                  ...     ...          ...             ...\n",
       "37592053  YPR199C                  867       0          TTT  Trehalose_t0_1\n",
       "37592054  YPR199C                  870       0          TCG  Trehalose_t0_1\n",
       "37592055  YPR199C                  873       1          TCA  Trehalose_t0_1\n",
       "37592056  YPR199C                  876       0          AAA  Trehalose_t0_1\n",
       "37592057  YPR199C                  879       0          TTA  Trehalose_t0_1\n",
       "\n",
       "[37592058 rows x 5 columns]"
      ]
     },
     "execution_count": 5,
     "metadata": {},
     "output_type": "execute_result"
    }
   ],
   "source": [
    "series_list = []\n",
    "for sample_file in trehalose_series_files:\n",
    "    counts_df = pd.read_csv(os.path.join(samples_dir, sample_file), index_col=0) \n",
    "    counts_df = counts_df[~counts_df.gene_id.str.contains('^Q')]#Remove mito genes as the codon-amino acid correspondence has differences from the cytoplasmic one\n",
    "    counts_df['sample'] = sample_file.split('_S')[0]\n",
    "    series_list.append(counts_df)\n",
    "\n",
    "series_df = pd.concat(series_list, axis=0).reset_index(drop=True)\n",
    "series_df.to_csv(samples_dir+'trehalose_series_features_with_counts.csv')\n",
    "series_df"
   ]
  },
  {
   "cell_type": "code",
   "execution_count": null,
   "id": "6a33c028-ed51-47a9-abe5-69550dc583f8",
   "metadata": {},
   "outputs": [],
   "source": []
  }
 ],
 "metadata": {
  "kernelspec": {
   "display_name": "Python [conda env:anaconda-mrna_halflife2]",
   "language": "python",
   "name": "conda-env-anaconda-mrna_halflife2-py"
  },
  "language_info": {
   "codemirror_mode": {
    "name": "ipython",
    "version": 3
   },
   "file_extension": ".py",
   "mimetype": "text/x-python",
   "name": "python",
   "nbconvert_exporter": "python",
   "pygments_lexer": "ipython3",
   "version": "3.7.6"
  }
 },
 "nbformat": 4,
 "nbformat_minor": 5
}
