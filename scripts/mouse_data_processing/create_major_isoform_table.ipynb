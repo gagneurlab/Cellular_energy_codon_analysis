{
 "cells": [
  {
   "cell_type": "markdown",
   "metadata": {},
   "source": [
    "# Create table for gene conversions from gtf"
   ]
  },
  {
   "cell_type": "code",
   "execution_count": 1,
   "metadata": {},
   "outputs": [],
   "source": [
    "%load_ext autoreload\n",
    "%autoreload 2"
   ]
  },
  {
   "cell_type": "code",
   "execution_count": 30,
   "metadata": {},
   "outputs": [],
   "source": [
    "import pyranges as pr\n",
    "import scvelo as  scv\n",
    "import pandas as pd\n",
    "import numpy as np\n",
    "import os\n",
    "from kipoiseq.extractors import CDSFetcher\n",
    "import matplotlib.pyplot as plt"
   ]
  },
  {
   "cell_type": "code",
   "execution_count": 3,
   "metadata": {},
   "outputs": [],
   "source": [
    "from utils import create_isoform_table"
   ]
  },
  {
   "cell_type": "code",
   "execution_count": 4,
   "metadata": {},
   "outputs": [],
   "source": [
    "data_dir = '../../data/mouse/'"
   ]
  },
  {
   "cell_type": "markdown",
   "metadata": {},
   "source": [
    "# Create major isoform table from gtf file"
   ]
  },
  {
   "cell_type": "code",
   "execution_count": 5,
   "metadata": {},
   "outputs": [],
   "source": [
    "# Read in adata and gtf file\n",
    "adata = scv.read(os.path.join(data_dir, \"data\", \"count_matrices\", \"3_month_annotated.h5ad\"))\n",
    "gtf = pr.read_gtf(os.path.join(data_dir, \"genome/mouse/mm10/gencode.vM25.basic.annotation.gtf.gz\"), as_df=True, duplicate_attr=True)"
   ]
  },
  {
   "cell_type": "code",
   "execution_count": 6,
   "metadata": {},
   "outputs": [],
   "source": [
    "cds_transcripts = CDSFetcher(os.path.join(data_dir, \"genome/mouse/mm10/gencode.vM25.basic.annotation.gtf.gz\"),\n",
    "                            filter_valid_transcripts=False,\n",
    "                            filter_biotype=True,\n",
    "                            filter_tag=False,\n",
    "                            on_error_warn=True).keys()"
   ]
  },
  {
   "cell_type": "code",
   "execution_count": 8,
   "metadata": {},
   "outputs": [],
   "source": [
    "major_isoform, transcripts = create_isoform_table(adata, gtf, cds_transcripts)"
   ]
  },
  {
   "cell_type": "code",
   "execution_count": 32,
   "metadata": {},
   "outputs": [
    {
     "data": {
      "text/plain": [
       "Text(0, 0.5, 'Main transcript')"
      ]
     },
     "execution_count": 32,
     "metadata": {},
     "output_type": "execute_result"
    },
    {
     "data": {
      "image/png": "[encoded data removed]",
      "text/plain": [
       "<Figure size 432x288 with 1 Axes>"
      ]
     },
     "metadata": {
      "needs_background": "light"
     },
     "output_type": "display_data"
    }
   ],
   "source": [
    "transcripts.groupby('gene_name').support.max().to_frame().support.value_counts().plot(kind='bar')\n",
    "plt.xlabel('support')\n",
    "plt.ylabel('Main transcript')"
   ]
  },
  {
   "cell_type": "code",
   "execution_count": 28,
   "metadata": {},
   "outputs": [],
   "source": [
    "major_isoform.to_csv(os.path.join(data_dir, 'isoforms/mm10_major_isoforms_tms.csv'), index=False)"
   ]
  },
  {
   "cell_type": "code",
   "execution_count": null,
   "metadata": {},
   "outputs": [],
   "source": []
  }
 ],
 "metadata": {
  "@webio": {
   "lastCommId": null,
   "lastKernelId": null
  },
  "kernelspec": {
   "display_name": "Python 3 (ipykernel)",
   "language": "python",
   "name": "python3"
  },
  "language_info": {
   "codemirror_mode": {
    "name": "ipython",
    "version": 3
   },
   "file_extension": ".py",
   "mimetype": "text/x-python",
   "name": "python",
   "nbconvert_exporter": "python",
   "pygments_lexer": "ipython3",
   "version": "3.8.13"
  }
 },
 "nbformat": 4,
 "nbformat_minor": 4
}
