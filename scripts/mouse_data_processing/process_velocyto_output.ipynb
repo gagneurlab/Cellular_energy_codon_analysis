{
 "cells": [
  {
   "cell_type": "code",
   "execution_count": 1,
   "metadata": {},
   "outputs": [],
   "source": [
    "import scvelo as scv\n",
    "\n",
    "import pandas as pd\n",
    "import glob\n",
    "import os"
   ]
  },
  {
   "cell_type": "markdown",
   "metadata": {},
   "source": [
    "# Read in loom files and combine them"
   ]
  },
  {
   "cell_type": "code",
   "execution_count": 19,
   "metadata": {},
   "outputs": [],
   "source": [
    "data_dir = '../../data/mouse/'"
   ]
  },
  {
   "cell_type": "code",
   "execution_count": 20,
   "metadata": {},
   "outputs": [],
   "source": [
    "month = \"3_month\""
   ]
  },
  {
   "cell_type": "code",
   "execution_count": 27,
   "metadata": {},
   "outputs": [],
   "source": [
    "raw_files = glob.glob(f\"{data_dir}/data/10x/{month}/*\")"
   ]
  },
  {
   "cell_type": "code",
   "execution_count": 22,
   "metadata": {},
   "outputs": [],
   "source": [
    "samples_month = [os.path.basename(raw_file) for raw_file in raw_files]"
   ]
  },
  {
   "cell_type": "code",
   "execution_count": 23,
   "metadata": {},
   "outputs": [],
   "source": [
    "# filter output files per month"
   ]
  },
  {
   "cell_type": "code",
   "execution_count": 24,
   "metadata": {},
   "outputs": [],
   "source": [
    "files = [glob.glob(f\"{data_dir}/pipeline_velocyto_output/velocyto/{sample}/*.loom\") \\\n",
    "         for sample in samples_month]"
   ]
  },
  {
   "cell_type": "code",
   "execution_count": 25,
   "metadata": {},
   "outputs": [],
   "source": [
    "files = []\n",
    "for sample in samples_month:\n",
    "    if os.path.isdir(f\"{data_dir}/pipeline_velocyto_output/velocyto/{sample}\"):\n",
    "        files.append(glob.glob(f\"{data_dir}/pipeline_velocyto_output/velocyto/{sample}/*.loom\")) \n",
    "        #samples.append(sample)"
   ]
  },
  {
   "cell_type": "markdown",
   "metadata": {},
   "source": [
    "## Read in adata"
   ]
  },
  {
   "cell_type": "code",
   "execution_count": 31,
   "metadata": {},
   "outputs": [],
   "source": [
    "adata = scv.read(f\"{data_dir}/official_data/tabula-muris-senis-droplet-official-raw-obj.h5ad\")"
   ]
  },
  {
   "cell_type": "code",
   "execution_count": 32,
   "metadata": {},
   "outputs": [
    {
     "data": {
      "text/plain": [
       "AnnData object with n_obs × n_vars = 245389 × 20138\n",
       "    obs: 'age', 'cell', 'cell_ontology_class', 'cell_ontology_id', 'free_annotation', 'method', 'mouse.id', 'n_genes', 'sex', 'subtissue', 'tissue', 'tissue_free_annotation'\n",
       "    var: 'n_cells'"
      ]
     },
     "execution_count": 32,
     "metadata": {},
     "output_type": "execute_result"
    }
   ],
   "source": [
    "adata"
   ]
  },
  {
   "cell_type": "markdown",
   "metadata": {},
   "source": [
    "#### Test which samples are new"
   ]
  },
  {
   "cell_type": "code",
   "execution_count": 33,
   "metadata": {},
   "outputs": [],
   "source": [
    "samples_dict = dict()\n",
    "for file in files:\n",
    "    sample = file[0].split('/')[-2]\n",
    "    samples_dict[sample] = any(adata.obs.cell.str.contains(sample))"
   ]
  },
  {
   "cell_type": "code",
   "execution_count": 34,
   "metadata": {},
   "outputs": [],
   "source": [
    "samples_metadata = pd.DataFrame.from_dict(samples_dict, orient='index', columns = ['present_in_metadata'])"
   ]
  },
  {
   "cell_type": "code",
   "execution_count": 35,
   "metadata": {},
   "outputs": [
    {
     "data": {
      "text/html": [
       "<div>\n",
       "<style scoped>\n",
       "    .dataframe tbody tr th:only-of-type {\n",
       "        vertical-align: middle;\n",
       "    }\n",
       "\n",
       "    .dataframe tbody tr th {\n",
       "        vertical-align: top;\n",
       "    }\n",
       "\n",
       "    .dataframe thead th {\n",
       "        text-align: right;\n",
       "    }\n",
       "</style>\n",
       "<table border=\"1\" class=\"dataframe\">\n",
       "  <thead>\n",
       "    <tr style=\"text-align: right;\">\n",
       "      <th></th>\n",
       "      <th>present_in_metadata</th>\n",
       "    </tr>\n",
       "  </thead>\n",
       "  <tbody>\n",
       "    <tr>\n",
       "      <th>10X_P7_4</th>\n",
       "      <td>True</td>\n",
       "    </tr>\n",
       "    <tr>\n",
       "      <th>10X_P4_0</th>\n",
       "      <td>True</td>\n",
       "    </tr>\n",
       "    <tr>\n",
       "      <th>10X_P7_3</th>\n",
       "      <td>True</td>\n",
       "    </tr>\n",
       "    <tr>\n",
       "      <th>10X_P4_1</th>\n",
       "      <td>True</td>\n",
       "    </tr>\n",
       "    <tr>\n",
       "      <th>10X_P4_4</th>\n",
       "      <td>True</td>\n",
       "    </tr>\n",
       "    <tr>\n",
       "      <th>10X_P7_14</th>\n",
       "      <td>True</td>\n",
       "    </tr>\n",
       "    <tr>\n",
       "      <th>10X_P7_9</th>\n",
       "      <td>True</td>\n",
       "    </tr>\n",
       "    <tr>\n",
       "      <th>10X_P7_10</th>\n",
       "      <td>True</td>\n",
       "    </tr>\n",
       "    <tr>\n",
       "      <th>10X_P7_11</th>\n",
       "      <td>True</td>\n",
       "    </tr>\n",
       "    <tr>\n",
       "      <th>10X_P7_12</th>\n",
       "      <td>True</td>\n",
       "    </tr>\n",
       "    <tr>\n",
       "      <th>10X_P7_2</th>\n",
       "      <td>True</td>\n",
       "    </tr>\n",
       "    <tr>\n",
       "      <th>10X_P7_8</th>\n",
       "      <td>True</td>\n",
       "    </tr>\n",
       "    <tr>\n",
       "      <th>10X_P7_1</th>\n",
       "      <td>True</td>\n",
       "    </tr>\n",
       "    <tr>\n",
       "      <th>10X_P7_5</th>\n",
       "      <td>True</td>\n",
       "    </tr>\n",
       "    <tr>\n",
       "      <th>10X_P8_14</th>\n",
       "      <td>True</td>\n",
       "    </tr>\n",
       "    <tr>\n",
       "      <th>10X_P7_0</th>\n",
       "      <td>True</td>\n",
       "    </tr>\n",
       "    <tr>\n",
       "      <th>10X_P8_12</th>\n",
       "      <td>True</td>\n",
       "    </tr>\n",
       "    <tr>\n",
       "      <th>10X_P7_15</th>\n",
       "      <td>True</td>\n",
       "    </tr>\n",
       "    <tr>\n",
       "      <th>10X_P4_5</th>\n",
       "      <td>True</td>\n",
       "    </tr>\n",
       "    <tr>\n",
       "      <th>10X_P7_13</th>\n",
       "      <td>True</td>\n",
       "    </tr>\n",
       "    <tr>\n",
       "      <th>10X_P7_7</th>\n",
       "      <td>True</td>\n",
       "    </tr>\n",
       "    <tr>\n",
       "      <th>10X_P4_7</th>\n",
       "      <td>True</td>\n",
       "    </tr>\n",
       "    <tr>\n",
       "      <th>10X_P4_2</th>\n",
       "      <td>True</td>\n",
       "    </tr>\n",
       "    <tr>\n",
       "      <th>10X_P4_6</th>\n",
       "      <td>True</td>\n",
       "    </tr>\n",
       "    <tr>\n",
       "      <th>10X_P8_15</th>\n",
       "      <td>True</td>\n",
       "    </tr>\n",
       "    <tr>\n",
       "      <th>10X_P8_13</th>\n",
       "      <td>True</td>\n",
       "    </tr>\n",
       "    <tr>\n",
       "      <th>10X_P7_6</th>\n",
       "      <td>True</td>\n",
       "    </tr>\n",
       "    <tr>\n",
       "      <th>10X_P4_3</th>\n",
       "      <td>True</td>\n",
       "    </tr>\n",
       "  </tbody>\n",
       "</table>\n",
       "</div>"
      ],
      "text/plain": [
       "           present_in_metadata\n",
       "10X_P7_4                  True\n",
       "10X_P4_0                  True\n",
       "10X_P7_3                  True\n",
       "10X_P4_1                  True\n",
       "10X_P4_4                  True\n",
       "10X_P7_14                 True\n",
       "10X_P7_9                  True\n",
       "10X_P7_10                 True\n",
       "10X_P7_11                 True\n",
       "10X_P7_12                 True\n",
       "10X_P7_2                  True\n",
       "10X_P7_8                  True\n",
       "10X_P7_1                  True\n",
       "10X_P7_5                  True\n",
       "10X_P8_14                 True\n",
       "10X_P7_0                  True\n",
       "10X_P8_12                 True\n",
       "10X_P7_15                 True\n",
       "10X_P4_5                  True\n",
       "10X_P7_13                 True\n",
       "10X_P7_7                  True\n",
       "10X_P4_7                  True\n",
       "10X_P4_2                  True\n",
       "10X_P4_6                  True\n",
       "10X_P8_15                 True\n",
       "10X_P8_13                 True\n",
       "10X_P7_6                  True\n",
       "10X_P4_3                  True"
      ]
     },
     "execution_count": 35,
     "metadata": {},
     "output_type": "execute_result"
    }
   ],
   "source": [
    "samples_metadata"
   ]
  },
  {
   "cell_type": "code",
   "execution_count": 36,
   "metadata": {},
   "outputs": [
    {
     "name": "stdout",
     "output_type": "stream",
     "text": [
      "Percentage of samples that are pesent in metadata 1.0\n"
     ]
    }
   ],
   "source": [
    "print(\"Percentage of samples that are pesent in metadata {}\".format(sum(samples_metadata.present_in_metadata)/samples_metadata.shape[0]))\n"
   ]
  },
  {
   "cell_type": "markdown",
   "metadata": {},
   "source": [
    "## Combine on obs.cell column\n"
   ]
  },
  {
   "cell_type": "code",
   "execution_count": 38,
   "metadata": {},
   "outputs": [],
   "source": [
    "from tqdm import tqdm\n",
    "import warnings\n",
    "warnings.filterwarnings(\"ignore\")"
   ]
  },
  {
   "cell_type": "code",
   "execution_count": null,
   "metadata": {
    "tags": []
   },
   "outputs": [],
   "source": [
    "df_list = []\n",
    "for file in tqdm(files):\n",
    "    print(file)\n",
    "    file = file[0]\n",
    "    data = scv.read_loom(file, sparse=True)\n",
    "    data.var_names_make_unique()\n",
    "    sample = file.split('/')[-2]\n",
    "    scv.utils.clean_obs_names(data, ID_length=16)\n",
    "    if any(data.obs.index.map(len) > 16):\n",
    "        print(\"some obs names larger than 16\")\n",
    "    data.obs['cell'] = [f'{sample}_{obs_name}' for obs_name in data.obs.index ]\n",
    "    #data.obs.set_index('cell', inplace = True)\n",
    "    df_list.append(data)\n"
   ]
  },
  {
   "cell_type": "code",
   "execution_count": 42,
   "metadata": {},
   "outputs": [],
   "source": [
    "combined = df_list[0].concatenate(df_list[1:], join = \"outer\")"
   ]
  },
  {
   "cell_type": "code",
   "execution_count": 43,
   "metadata": {},
   "outputs": [],
   "source": [
    "combined.obs.reset_index(inplace = True)\n",
    "combined.obs = combined.obs.merge(adata.obs, on = 'cell', how = 'left', copy = False)\n",
    "combined.obs.set_index('index', inplace = True)"
   ]
  },
  {
   "cell_type": "code",
   "execution_count": 44,
   "metadata": {},
   "outputs": [
    {
     "data": {
      "text/html": [
       "<div>\n",
       "<style scoped>\n",
       "    .dataframe tbody tr th:only-of-type {\n",
       "        vertical-align: middle;\n",
       "    }\n",
       "\n",
       "    .dataframe tbody tr th {\n",
       "        vertical-align: top;\n",
       "    }\n",
       "\n",
       "    .dataframe thead th {\n",
       "        text-align: right;\n",
       "    }\n",
       "</style>\n",
       "<table border=\"1\" class=\"dataframe\">\n",
       "  <thead>\n",
       "    <tr style=\"text-align: right;\">\n",
       "      <th></th>\n",
       "      <th>cell</th>\n",
       "      <th>batch</th>\n",
       "      <th>age</th>\n",
       "      <th>cell_ontology_class</th>\n",
       "      <th>cell_ontology_id</th>\n",
       "      <th>free_annotation</th>\n",
       "      <th>method</th>\n",
       "      <th>mouse.id</th>\n",
       "      <th>n_genes</th>\n",
       "      <th>sex</th>\n",
       "      <th>subtissue</th>\n",
       "      <th>tissue</th>\n",
       "      <th>tissue_free_annotation</th>\n",
       "    </tr>\n",
       "    <tr>\n",
       "      <th>index</th>\n",
       "      <th></th>\n",
       "      <th></th>\n",
       "      <th></th>\n",
       "      <th></th>\n",
       "      <th></th>\n",
       "      <th></th>\n",
       "      <th></th>\n",
       "      <th></th>\n",
       "      <th></th>\n",
       "      <th></th>\n",
       "      <th></th>\n",
       "      <th></th>\n",
       "      <th></th>\n",
       "    </tr>\n",
       "  </thead>\n",
       "  <tbody>\n",
       "    <tr>\n",
       "      <th>ACGCAGCAGTTACGGG-0</th>\n",
       "      <td>10X_P7_4_ACGCAGCAGTTACGGG</td>\n",
       "      <td>0</td>\n",
       "      <td>NaN</td>\n",
       "      <td>NaN</td>\n",
       "      <td>NaN</td>\n",
       "      <td>NaN</td>\n",
       "      <td>NaN</td>\n",
       "      <td>NaN</td>\n",
       "      <td>NaN</td>\n",
       "      <td>NaN</td>\n",
       "      <td>NaN</td>\n",
       "      <td>NaN</td>\n",
       "      <td>NaN</td>\n",
       "    </tr>\n",
       "    <tr>\n",
       "      <th>AAGGCAGGTCACCTAA-0</th>\n",
       "      <td>10X_P7_4_AAGGCAGGTCACCTAA</td>\n",
       "      <td>0</td>\n",
       "      <td>3m</td>\n",
       "      <td>fibroblast of cardiac tissue</td>\n",
       "      <td>CL:0000057</td>\n",
       "      <td>fibroblast</td>\n",
       "      <td>droplet</td>\n",
       "      <td>3-F-56</td>\n",
       "      <td>NaN</td>\n",
       "      <td>female</td>\n",
       "      <td>nan</td>\n",
       "      <td>Heart_and_Aorta</td>\n",
       "      <td>Heart_and_Aorta</td>\n",
       "    </tr>\n",
       "    <tr>\n",
       "      <th>ACGATACCACAGCGTC-0</th>\n",
       "      <td>10X_P7_4_ACGATACCACAGCGTC</td>\n",
       "      <td>0</td>\n",
       "      <td>3m</td>\n",
       "      <td>smooth muscle cell</td>\n",
       "      <td>nan</td>\n",
       "      <td>smooth muscle cell</td>\n",
       "      <td>droplet</td>\n",
       "      <td>3-F-56</td>\n",
       "      <td>NaN</td>\n",
       "      <td>female</td>\n",
       "      <td>nan</td>\n",
       "      <td>Heart_and_Aorta</td>\n",
       "      <td>Heart_and_Aorta</td>\n",
       "    </tr>\n",
       "    <tr>\n",
       "      <th>AAATGCCAGTCCATAC-0</th>\n",
       "      <td>10X_P7_4_AAATGCCAGTCCATAC</td>\n",
       "      <td>0</td>\n",
       "      <td>3m</td>\n",
       "      <td>fibroblast of cardiac tissue</td>\n",
       "      <td>CL:0000057</td>\n",
       "      <td>fibroblast</td>\n",
       "      <td>droplet</td>\n",
       "      <td>3-F-56</td>\n",
       "      <td>NaN</td>\n",
       "      <td>female</td>\n",
       "      <td>nan</td>\n",
       "      <td>Heart_and_Aorta</td>\n",
       "      <td>Heart_and_Aorta</td>\n",
       "    </tr>\n",
       "    <tr>\n",
       "      <th>AGAGCGACAACACCCG-0</th>\n",
       "      <td>10X_P7_4_AGAGCGACAACACCCG</td>\n",
       "      <td>0</td>\n",
       "      <td>3m</td>\n",
       "      <td>erythrocyte</td>\n",
       "      <td>nan</td>\n",
       "      <td>nan</td>\n",
       "      <td>droplet</td>\n",
       "      <td>3-F-56</td>\n",
       "      <td>NaN</td>\n",
       "      <td>female</td>\n",
       "      <td>nan</td>\n",
       "      <td>Heart_and_Aorta</td>\n",
       "      <td>Heart_and_Aorta</td>\n",
       "    </tr>\n",
       "    <tr>\n",
       "      <th>...</th>\n",
       "      <td>...</td>\n",
       "      <td>...</td>\n",
       "      <td>...</td>\n",
       "      <td>...</td>\n",
       "      <td>...</td>\n",
       "      <td>...</td>\n",
       "      <td>...</td>\n",
       "      <td>...</td>\n",
       "      <td>...</td>\n",
       "      <td>...</td>\n",
       "      <td>...</td>\n",
       "      <td>...</td>\n",
       "      <td>...</td>\n",
       "    </tr>\n",
       "    <tr>\n",
       "      <th>GTCTCGTCAAACTGTC-27</th>\n",
       "      <td>10X_P4_3_GTCTCGTCAAACTGTC</td>\n",
       "      <td>27</td>\n",
       "      <td>3m</td>\n",
       "      <td>bladder cell</td>\n",
       "      <td>CL:1001319</td>\n",
       "      <td>bladder mesenchymal cell (Scara5+)</td>\n",
       "      <td>droplet</td>\n",
       "      <td>3-M-8</td>\n",
       "      <td>NaN</td>\n",
       "      <td>male</td>\n",
       "      <td>nan</td>\n",
       "      <td>Bladder</td>\n",
       "      <td>Bladder</td>\n",
       "    </tr>\n",
       "    <tr>\n",
       "      <th>TGGCTGGGTCGCTTCT-27</th>\n",
       "      <td>10X_P4_3_TGGCTGGGTCGCTTCT</td>\n",
       "      <td>27</td>\n",
       "      <td>3m</td>\n",
       "      <td>bladder urothelial cell</td>\n",
       "      <td>CL:1001428</td>\n",
       "      <td>basal bladder epithelial cell (Krt5+Krt14+)</td>\n",
       "      <td>droplet</td>\n",
       "      <td>3-M-8</td>\n",
       "      <td>NaN</td>\n",
       "      <td>male</td>\n",
       "      <td>nan</td>\n",
       "      <td>Bladder</td>\n",
       "      <td>Bladder</td>\n",
       "    </tr>\n",
       "    <tr>\n",
       "      <th>TACGGATAGGTACTCT-27</th>\n",
       "      <td>10X_P4_3_TACGGATAGGTACTCT</td>\n",
       "      <td>27</td>\n",
       "      <td>3m</td>\n",
       "      <td>bladder cell</td>\n",
       "      <td>CL:1001319</td>\n",
       "      <td>bladder mesenchymal cell (Scara5+)</td>\n",
       "      <td>droplet</td>\n",
       "      <td>3-M-8</td>\n",
       "      <td>NaN</td>\n",
       "      <td>male</td>\n",
       "      <td>nan</td>\n",
       "      <td>Bladder</td>\n",
       "      <td>Bladder</td>\n",
       "    </tr>\n",
       "    <tr>\n",
       "      <th>GTAGTCAAGACGACGT-27</th>\n",
       "      <td>10X_P4_3_GTAGTCAAGACGACGT</td>\n",
       "      <td>27</td>\n",
       "      <td>3m</td>\n",
       "      <td>bladder cell</td>\n",
       "      <td>CL:1001319</td>\n",
       "      <td>bladder mesenchymal cell (Scara5+)</td>\n",
       "      <td>droplet</td>\n",
       "      <td>3-M-8</td>\n",
       "      <td>NaN</td>\n",
       "      <td>male</td>\n",
       "      <td>nan</td>\n",
       "      <td>Bladder</td>\n",
       "      <td>Bladder</td>\n",
       "    </tr>\n",
       "    <tr>\n",
       "      <th>TTGCCGTCACGCCAGT-27</th>\n",
       "      <td>10X_P4_3_TTGCCGTCACGCCAGT</td>\n",
       "      <td>27</td>\n",
       "      <td>3m</td>\n",
       "      <td>leukocyte</td>\n",
       "      <td>CL:0000738</td>\n",
       "      <td>granulocyte-monocyte progenitor</td>\n",
       "      <td>droplet</td>\n",
       "      <td>3-M-8</td>\n",
       "      <td>NaN</td>\n",
       "      <td>male</td>\n",
       "      <td>nan</td>\n",
       "      <td>Bladder</td>\n",
       "      <td>Bladder</td>\n",
       "    </tr>\n",
       "  </tbody>\n",
       "</table>\n",
       "<p>54020 rows × 13 columns</p>\n",
       "</div>"
      ],
      "text/plain": [
       "                                          cell batch  age  \\\n",
       "index                                                       \n",
       "ACGCAGCAGTTACGGG-0   10X_P7_4_ACGCAGCAGTTACGGG     0  NaN   \n",
       "AAGGCAGGTCACCTAA-0   10X_P7_4_AAGGCAGGTCACCTAA     0   3m   \n",
       "ACGATACCACAGCGTC-0   10X_P7_4_ACGATACCACAGCGTC     0   3m   \n",
       "AAATGCCAGTCCATAC-0   10X_P7_4_AAATGCCAGTCCATAC     0   3m   \n",
       "AGAGCGACAACACCCG-0   10X_P7_4_AGAGCGACAACACCCG     0   3m   \n",
       "...                                        ...   ...  ...   \n",
       "GTCTCGTCAAACTGTC-27  10X_P4_3_GTCTCGTCAAACTGTC    27   3m   \n",
       "TGGCTGGGTCGCTTCT-27  10X_P4_3_TGGCTGGGTCGCTTCT    27   3m   \n",
       "TACGGATAGGTACTCT-27  10X_P4_3_TACGGATAGGTACTCT    27   3m   \n",
       "GTAGTCAAGACGACGT-27  10X_P4_3_GTAGTCAAGACGACGT    27   3m   \n",
       "TTGCCGTCACGCCAGT-27  10X_P4_3_TTGCCGTCACGCCAGT    27   3m   \n",
       "\n",
       "                              cell_ontology_class cell_ontology_id  \\\n",
       "index                                                                \n",
       "ACGCAGCAGTTACGGG-0                            NaN              NaN   \n",
       "AAGGCAGGTCACCTAA-0   fibroblast of cardiac tissue       CL:0000057   \n",
       "ACGATACCACAGCGTC-0             smooth muscle cell              nan   \n",
       "AAATGCCAGTCCATAC-0   fibroblast of cardiac tissue       CL:0000057   \n",
       "AGAGCGACAACACCCG-0                    erythrocyte              nan   \n",
       "...                                           ...              ...   \n",
       "GTCTCGTCAAACTGTC-27                  bladder cell       CL:1001319   \n",
       "TGGCTGGGTCGCTTCT-27       bladder urothelial cell       CL:1001428   \n",
       "TACGGATAGGTACTCT-27                  bladder cell       CL:1001319   \n",
       "GTAGTCAAGACGACGT-27                  bladder cell       CL:1001319   \n",
       "TTGCCGTCACGCCAGT-27                     leukocyte       CL:0000738   \n",
       "\n",
       "                                                 free_annotation   method  \\\n",
       "index                                                                       \n",
       "ACGCAGCAGTTACGGG-0                                           NaN      NaN   \n",
       "AAGGCAGGTCACCTAA-0                                    fibroblast  droplet   \n",
       "ACGATACCACAGCGTC-0                            smooth muscle cell  droplet   \n",
       "AAATGCCAGTCCATAC-0                                    fibroblast  droplet   \n",
       "AGAGCGACAACACCCG-0                                           nan  droplet   \n",
       "...                                                          ...      ...   \n",
       "GTCTCGTCAAACTGTC-27           bladder mesenchymal cell (Scara5+)  droplet   \n",
       "TGGCTGGGTCGCTTCT-27  basal bladder epithelial cell (Krt5+Krt14+)  droplet   \n",
       "TACGGATAGGTACTCT-27           bladder mesenchymal cell (Scara5+)  droplet   \n",
       "GTAGTCAAGACGACGT-27           bladder mesenchymal cell (Scara5+)  droplet   \n",
       "TTGCCGTCACGCCAGT-27              granulocyte-monocyte progenitor  droplet   \n",
       "\n",
       "                    mouse.id  n_genes     sex subtissue           tissue  \\\n",
       "index                                                                      \n",
       "ACGCAGCAGTTACGGG-0       NaN      NaN     NaN       NaN              NaN   \n",
       "AAGGCAGGTCACCTAA-0    3-F-56      NaN  female       nan  Heart_and_Aorta   \n",
       "ACGATACCACAGCGTC-0    3-F-56      NaN  female       nan  Heart_and_Aorta   \n",
       "AAATGCCAGTCCATAC-0    3-F-56      NaN  female       nan  Heart_and_Aorta   \n",
       "AGAGCGACAACACCCG-0    3-F-56      NaN  female       nan  Heart_and_Aorta   \n",
       "...                      ...      ...     ...       ...              ...   \n",
       "GTCTCGTCAAACTGTC-27    3-M-8      NaN    male       nan          Bladder   \n",
       "TGGCTGGGTCGCTTCT-27    3-M-8      NaN    male       nan          Bladder   \n",
       "TACGGATAGGTACTCT-27    3-M-8      NaN    male       nan          Bladder   \n",
       "GTAGTCAAGACGACGT-27    3-M-8      NaN    male       nan          Bladder   \n",
       "TTGCCGTCACGCCAGT-27    3-M-8      NaN    male       nan          Bladder   \n",
       "\n",
       "                    tissue_free_annotation  \n",
       "index                                       \n",
       "ACGCAGCAGTTACGGG-0                     NaN  \n",
       "AAGGCAGGTCACCTAA-0         Heart_and_Aorta  \n",
       "ACGATACCACAGCGTC-0         Heart_and_Aorta  \n",
       "AAATGCCAGTCCATAC-0         Heart_and_Aorta  \n",
       "AGAGCGACAACACCCG-0         Heart_and_Aorta  \n",
       "...                                    ...  \n",
       "GTCTCGTCAAACTGTC-27                Bladder  \n",
       "TGGCTGGGTCGCTTCT-27                Bladder  \n",
       "TACGGATAGGTACTCT-27                Bladder  \n",
       "GTAGTCAAGACGACGT-27                Bladder  \n",
       "TTGCCGTCACGCCAGT-27                Bladder  \n",
       "\n",
       "[54020 rows x 13 columns]"
      ]
     },
     "execution_count": 44,
     "metadata": {},
     "output_type": "execute_result"
    }
   ],
   "source": [
    "combined.obs"
   ]
  },
  {
   "cell_type": "code",
   "execution_count": 46,
   "metadata": {},
   "outputs": [
    {
     "data": {
      "text/plain": [
       "0.16427249166975194"
      ]
     },
     "execution_count": 46,
     "metadata": {},
     "output_type": "execute_result"
    }
   ],
   "source": [
    "# fraction that has no annotation\n",
    "combined.obs.cell_ontology_class.isna().sum()/combined.obs.shape[0]"
   ]
  },
  {
   "cell_type": "code",
   "execution_count": 47,
   "metadata": {},
   "outputs": [],
   "source": [
    "combined_filtered = combined[~combined.obs.cell_ontology_class.isna()]"
   ]
  },
  {
   "cell_type": "code",
   "execution_count": 48,
   "metadata": {},
   "outputs": [
    {
     "data": {
      "text/plain": [
       "(45146, 31253)"
      ]
     },
     "execution_count": 48,
     "metadata": {},
     "output_type": "execute_result"
    }
   ],
   "source": [
    "combined_filtered.shape"
   ]
  },
  {
   "cell_type": "code",
   "execution_count": 64,
   "metadata": {},
   "outputs": [
    {
     "name": "stderr",
     "output_type": "stream",
     "text": [
      "... storing 'Chromosome' as categorical\n",
      "... storing 'Strand' as categorical\n"
     ]
    }
   ],
   "source": [
    "combined.write(f\"{data_dir}/count_matrices/{month}_annotated.h5ad\")"
   ]
  }
 ],
 "metadata": {
  "kernelspec": {
   "display_name": "Python 3 (ipykernel)",
   "language": "python",
   "name": "python3"
  },
  "language_info": {
   "codemirror_mode": {
    "name": "ipython",
    "version": 3
   },
   "file_extension": ".py",
   "mimetype": "text/x-python",
   "name": "python",
   "nbconvert_exporter": "python",
   "pygments_lexer": "ipython3",
   "version": "3.8.13"
  }
 },
 "nbformat": 4,
 "nbformat_minor": 4
}
