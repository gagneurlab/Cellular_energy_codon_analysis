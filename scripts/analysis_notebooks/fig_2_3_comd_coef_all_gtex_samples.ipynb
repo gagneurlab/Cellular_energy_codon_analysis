{
 "cells": [
  {
   "cell_type": "markdown",
   "id": "a6ef72de-e1f9-44ec-a035-9d3bf177eb2d",
   "metadata": {
    "tags": []
   },
   "source": [
    "# Analysis of COMD coefficient across individuals"
   ]
  },
  {
   "cell_type": "code",
   "execution_count": null,
   "id": "006574cc-22db-4a50-a2ac-f6e7181d31ac",
   "metadata": {
    "tags": []
   },
   "outputs": [],
   "source": [
    "from data_utils.data_handling import DataHandler\n",
    "import pandas as pd\n",
    "import numpy as np\n",
    "from plotnine import *"
   ]
  },
  {
   "cell_type": "code",
   "execution_count": null,
   "id": "589fb775-f0b2-4506-883b-9ef50153522a",
   "metadata": {},
   "outputs": [],
   "source": [
    "data_path = '../../data/'"
   ]
  },
  {
   "cell_type": "markdown",
   "id": "051dfe4a-7dae-4c14-9bfe-78ee4a08a6e7",
   "metadata": {},
   "source": [
    "Let's get the ei ratios"
   ]
  },
  {
   "cell_type": "markdown",
   "id": "8fdf6efa-ec16-41cc-985c-84e4d21a5ec0",
   "metadata": {},
   "source": [
    "We will have to filter the genes by expressed only per tissue and select the major transcripts afterwards"
   ]
  },
  {
   "cell_type": "code",
   "execution_count": null,
   "id": "32587543-5371-483c-af62-d4036033e8f4",
   "metadata": {
    "tags": []
   },
   "outputs": [],
   "source": [
    "ei_ratios_df = pd.read_csv(data_path+'EI-ratios-masked.csv')"
   ]
  },
  {
   "cell_type": "code",
   "execution_count": null,
   "id": "138de072-23b0-4883-85f2-444160aa4d54",
   "metadata": {},
   "outputs": [],
   "source": [
    "ei_ratios_df = ei_ratios_df.rename({'gene.id':'gene_id'}, axis=1).set_index('gene_id')\n",
    "ei_ratios_df"
   ]
  },
  {
   "cell_type": "markdown",
   "id": "4a46b36e-82a7-40c7-a146-c0ee42ce15e6",
   "metadata": {},
   "source": [
    "Let's load the tissue annotations of the samples from gtex:"
   ]
  },
  {
   "cell_type": "code",
   "execution_count": null,
   "id": "e4bce998-ad9a-4744-b738-d3f435864b7a",
   "metadata": {},
   "outputs": [],
   "source": [
    "gtex_annotation = pd.read_csv(data_path+'bam_files_condition-annotation.csv')\n",
    "gtex_annotation"
   ]
  },
  {
   "cell_type": "code",
   "execution_count": null,
   "id": "45addc6f-927c-41e1-876a-21fda31ff8fa",
   "metadata": {},
   "outputs": [],
   "source": [
    "ei_ratios_df = ei_ratios_df.T.merge(gtex_annotation.loc[:, ['sample.id', 'subtissue']], left_index=True, right_on='sample.id')\n",
    "ei_ratios_df"
   ]
  },
  {
   "cell_type": "code",
   "execution_count": null,
   "id": "f690ab1f-75ab-47bc-86b1-71fc23534294",
   "metadata": {},
   "outputs": [],
   "source": [
    "ei_ratios_df['subtissue'] = ei_ratios_df['subtissue'].str.replace('_', ' ')"
   ]
  },
  {
   "cell_type": "markdown",
   "id": "fdf6a330-a94e-4ff6-876c-95dd3fde9bb6",
   "metadata": {},
   "source": [
    "Reading major isoforms table:"
   ]
  },
  {
   "cell_type": "code",
   "execution_count": null,
   "id": "8e6befcb-e8d6-4f8f-8c34-22e8bdad7754",
   "metadata": {},
   "outputs": [],
   "source": [
    "major_iso_df = pd.read_csv(data_path+'gtex_major_isoform_per_subtissue.csv').set_index('gene_id')\n",
    "major_iso_df"
   ]
  },
  {
   "cell_type": "code",
   "execution_count": null,
   "id": "19c22f6d-546f-488a-be33-919a529bbd56",
   "metadata": {
    "tags": []
   },
   "outputs": [],
   "source": [
    "major_iso_df.columns = major_iso_df.columns.str.replace(' - ', ' ')\n",
    "major_iso_df.columns = major_iso_df.columns.str.replace('-', ' ')\n",
    "major_iso_df.columns = major_iso_df.columns.str.replace('(', '')\n",
    "major_iso_df.columns = major_iso_df.columns.str.replace(')', '')\n",
    "major_iso_df"
   ]
  },
  {
   "cell_type": "code",
   "execution_count": null,
   "id": "d06e2ed3-00d0-4dbc-95e2-2f8ce6631d54",
   "metadata": {},
   "outputs": [],
   "source": [
    "samples_ei_df_melted = ei_ratios_df.melt(id_vars=['sample.id', 'subtissue'], var_name='gene_id', value_name='ei_ratio')\n",
    "samples_ei_df_melted"
   ]
  },
  {
   "cell_type": "markdown",
   "id": "a3c0b25f-f67c-40e1-be45-0258d90d69db",
   "metadata": {},
   "source": [
    "Let's melt the major isoforms table so we can merge it with the samples"
   ]
  },
  {
   "cell_type": "code",
   "execution_count": null,
   "id": "a9840e7b-02d6-447b-bf5e-1e1e2a5bb10e",
   "metadata": {},
   "outputs": [],
   "source": [
    "melted_major_isoforms = pd.melt(major_iso_df.reset_index(), id_vars='gene_id', value_name='major_isoform', var_name='subtissue')\n",
    "melted_major_isoforms = melted_major_isoforms.dropna()\n",
    "melted_major_isoforms"
   ]
  },
  {
   "cell_type": "code",
   "execution_count": null,
   "id": "95f24d73-325f-4c3f-8b34-8655e21fd598",
   "metadata": {},
   "outputs": [],
   "source": [
    "samples_mi_ei_df = samples_ei_df_melted.merge(melted_major_isoforms, left_on=['gene_id', 'subtissue'], right_on=['gene_id', 'subtissue'], how='left')\n",
    "samples_mi_ei_df"
   ]
  },
  {
   "cell_type": "markdown",
   "id": "2b1ac23e-037a-4506-885e-d946e5703cbf",
   "metadata": {},
   "source": [
    "Drop nas (which corrrespond to non expressed genes)"
   ]
  },
  {
   "cell_type": "code",
   "execution_count": null,
   "id": "6e4dc7d6-01c8-4829-b782-0144f6724703",
   "metadata": {},
   "outputs": [],
   "source": [
    "samples_mi_ei_df = samples_mi_ei_df.dropna()\n",
    "samples_mi_ei_df"
   ]
  },
  {
   "cell_type": "code",
   "execution_count": null,
   "id": "8b604734-ddba-47b8-af5b-2edf1babab43",
   "metadata": {
    "tags": []
   },
   "outputs": [],
   "source": [
    "major_iso_df = samples_mi_ei_df.pivot(values='ei_ratio', columns='sample.id', index='major_isoform')\n",
    "major_iso_df"
   ]
  },
  {
   "cell_type": "code",
   "execution_count": null,
   "id": "d9c1360b-8e49-4a78-93e9-6e42cc2ae3ac",
   "metadata": {},
   "outputs": [],
   "source": [
    "thresh = int((2/3) * len(major_iso_df.columns)) #keep transcripts which are expressed in more than 2/3s of the samples\n",
    "thresh"
   ]
  },
  {
   "cell_type": "code",
   "execution_count": null,
   "id": "ed42c314-8571-49b2-8b0d-4ba5a5f5db1f",
   "metadata": {},
   "outputs": [],
   "source": [
    "ei_iso_df_non_centered_t = major_iso_df.dropna(thresh=thresh)\n",
    "ei_iso_df_non_centered_t"
   ]
  },
  {
   "cell_type": "code",
   "execution_count": null,
   "id": "a99c2624-9e27-4c10-a2ca-1d9c94358ced",
   "metadata": {},
   "outputs": [],
   "source": [
    "ei_iso_df_t = ei_iso_df_non_centered_t.sub(ei_iso_df_non_centered_t.mean(axis=1), axis=0)\n",
    "ei_iso_df_t"
   ]
  },
  {
   "cell_type": "markdown",
   "id": "45c4ecef-15a7-4dc8-b823-682dd554c3e8",
   "metadata": {},
   "source": [
    "## Load reference decoding rate"
   ]
  },
  {
   "cell_type": "markdown",
   "id": "3fa2339f-7787-44f1-81b7-5d933b0b878b",
   "metadata": {},
   "source": [
    "Let's load the gencode 19 decoding estimates and the CENTERED EI ratios"
   ]
  },
  {
   "cell_type": "code",
   "execution_count": null,
   "id": "449a9504-2a80-4109-bcdc-3b1e0c372f75",
   "metadata": {},
   "outputs": [],
   "source": [
    "dec_rates_df = pd.read_csv(data_path + 'gencode19_avg_dec_rate', sep=' ', names=['transcript_id','mtdr'], index_col=0)\n",
    "dec_rates_df"
   ]
  },
  {
   "cell_type": "code",
   "execution_count": null,
   "id": "e85ce542-9b6e-4b31-9d3e-1302ca9918e1",
   "metadata": {},
   "outputs": [],
   "source": [
    "(ggplot(dec_rates_df, aes('mtdr'))\n",
    "    + geom_histogram())"
   ]
  },
  {
   "cell_type": "code",
   "execution_count": null,
   "id": "edad6e2e-0034-4118-bb51-74c07f527da5",
   "metadata": {},
   "outputs": [],
   "source": [
    "ei_dec_df = ei_iso_df_t.join(dec_rates_df, how='inner')\n",
    "ei_dec_df"
   ]
  },
  {
   "cell_type": "markdown",
   "id": "7fb793ee-d6d7-41a9-9910-d097ae36a22a",
   "metadata": {},
   "source": [
    "## Load individual metadata"
   ]
  },
  {
   "cell_type": "code",
   "execution_count": null,
   "id": "3be56273-4c87-4c26-b872-3c7d34640bb9",
   "metadata": {},
   "outputs": [],
   "source": [
    "gtex_annotation['individual_id'] = gtex_annotation['sample.name'].apply(lambda name: name.split('-')[0] + '-' + name.split('-')[1])\n",
    "gtex_annotation['individual_id']"
   ]
  },
  {
   "cell_type": "markdown",
   "id": "d9886b55-f971-49e3-8d9c-8bbccf6bad00",
   "metadata": {},
   "source": [
    "Number of individuals:"
   ]
  },
  {
   "cell_type": "code",
   "execution_count": null,
   "id": "2b838708-d0b5-4b88-af3f-89496612ce0d",
   "metadata": {},
   "outputs": [],
   "source": [
    "len(gtex_annotation['individual_id'].unique())"
   ]
  },
  {
   "cell_type": "code",
   "execution_count": null,
   "id": "37dd12fb-fa67-48a8-b7d0-54ed19979444",
   "metadata": {},
   "outputs": [],
   "source": [
    "individual_metadata = pd.read_csv(data_path+'GTEX_Annotations_subjects', index_col=0)\n",
    "individual_metadata"
   ]
  },
  {
   "cell_type": "code",
   "execution_count": null,
   "id": "2309c7c0-d562-4d83-9d17-1a91de01ea89",
   "metadata": {},
   "outputs": [],
   "source": [
    "individual_metadata = individual_metadata.merge(gtex_annotation.loc[:, ['individual_id', 'sample.name', 'sample.id']], left_on='SUBJID', right_on='individual_id')"
   ]
  },
  {
   "cell_type": "code",
   "execution_count": null,
   "id": "bc9ffd2d-4416-40a1-9dcb-f6c6354973aa",
   "metadata": {},
   "outputs": [],
   "source": [
    "individual_metadata.set_index('sample.name', inplace=True)\n",
    "individual_metadata"
   ]
  },
  {
   "cell_type": "code",
   "execution_count": null,
   "id": "7480e123-78a2-4929-ad0c-434f8302c18e",
   "metadata": {},
   "outputs": [],
   "source": [
    "all_atributes = pd.read_csv(data_path+'GTEx_Annotations.csv')"
   ]
  },
  {
   "cell_type": "code",
   "execution_count": null,
   "id": "a8bed695-941f-4a73-a547-728d2eda87fe",
   "metadata": {},
   "outputs": [],
   "source": [
    "all_atributes"
   ]
  },
  {
   "cell_type": "markdown",
   "id": "be764faf-ac5d-4b63-8939-0cd67fd7dd11",
   "metadata": {},
   "source": [
    "All public metadata with bam file ids:"
   ]
  },
  {
   "cell_type": "code",
   "execution_count": null,
   "id": "674dbd13-3f15-4287-87b9-7e8b561eb05c",
   "metadata": {},
   "outputs": [],
   "source": [
    "all_metadata_df = individual_metadata.merge(all_atributes, left_index=True, right_on='SAMPID')\n",
    "all_metadata_df"
   ]
  },
  {
   "cell_type": "code",
   "execution_count": null,
   "id": "0a2572e0-db4d-43aa-a5e9-a8d927ed9378",
   "metadata": {},
   "outputs": [],
   "source": [
    "#all_metadata_df.to_csv(data_path+'gtex_sample_metadata_public.csv')"
   ]
  },
  {
   "cell_type": "markdown",
   "id": "29af9dfd-5bbd-43c8-9593-a419ae68fba8",
   "metadata": {},
   "source": [
    "## Compute the COMD coefficient per (indivdual, tissue) pair or sample"
   ]
  },
  {
   "cell_type": "code",
   "execution_count": null,
   "id": "3ef8f458-47ec-4271-829f-ddc56fb333e5",
   "metadata": {},
   "outputs": [],
   "source": [
    "from sklearn.linear_model import LinearRegression\n",
    "from sklearn.metrics import explained_variance_score\n",
    "from scipy.stats import spearmanr, pearsonr"
   ]
  },
  {
   "cell_type": "code",
   "execution_count": null,
   "id": "e9cffc19-1bed-41c4-9b21-2d559cb5633b",
   "metadata": {
    "tags": []
   },
   "outputs": [],
   "source": [
    "def linear_reg_sample(ei_sample_dec_time_df, sample, ind_var='mtdr'):\n",
    "\n",
    "    model = LinearRegression()\n",
    "    sample_ei = ei_sample_dec_time_df.loc[:, [sample, ind_var]].dropna()\n",
    "    spearman_sample = spearmanr(sample_ei[ind_var], sample_ei[sample])[0]\n",
    "    \n",
    "    model.fit(X=sample_ei[ind_var].values.reshape(-1, 1), y=sample_ei[sample].values)\n",
    "    \n",
    "    exp_var = explained_variance_score(sample_ei[sample].values, \n",
    "                         model.predict(sample_ei[ind_var].values.reshape(-1, 1)))\n",
    "\n",
    "    \n",
    "    pearson_ei_dec = pearsonr(sample_ei[ind_var].values, sample_ei[sample].values)[0]\n",
    "    \n",
    "    coef = model.coef_[0]\n",
    "    \n",
    "    return coef, exp_var, pearson_ei_dec, spearman_sample"
   ]
  },
  {
   "cell_type": "code",
   "execution_count": null,
   "id": "ac434783-45f6-4b5b-abe1-10e9b54f521f",
   "metadata": {},
   "outputs": [],
   "source": [
    "sample = 'SRR1068687'"
   ]
  },
  {
   "cell_type": "code",
   "execution_count": null,
   "id": "f4d73f54-f47a-4a13-a75a-2563be1325b1",
   "metadata": {},
   "outputs": [],
   "source": [
    "linear_reg_sample(ei_dec_df, sample)"
   ]
  },
  {
   "cell_type": "code",
   "execution_count": null,
   "id": "2fed6698-4f5e-485b-8417-31dcfe552375",
   "metadata": {},
   "outputs": [],
   "source": [
    "lin_reg_dict = {'sample': [], 'comd_coef': [], 'exp_var': [], 'pearson_ei_dec': [], 'rho_sample_ei_dec': []}\n",
    "\n",
    "for sample in ei_iso_df_t.columns:\n",
    "    \n",
    "    coef, exp_var, pearson, spearman_sample = linear_reg_sample(ei_dec_df, sample)\n",
    "    lin_reg_dict['sample'].append(sample)\n",
    "    lin_reg_dict['comd_coef'].append(coef)\n",
    "    lin_reg_dict['exp_var'].append(exp_var)\n",
    "    lin_reg_dict['pearson_ei_dec'].append(pearson)\n",
    "    lin_reg_dict['rho_sample_ei_dec'].append(spearman_sample)\n",
    "    \n",
    "lin_reg_df = pd.DataFrame(lin_reg_dict)\n",
    "lin_reg_df    "
   ]
  },
  {
   "cell_type": "code",
   "execution_count": null,
   "id": "ab8d18ef-99db-4152-8f17-f09409d4e207",
   "metadata": {},
   "outputs": [],
   "source": [
    "lin_reg_df = lin_reg_df.sort_values('comd_coef')\n",
    "lin_reg_df['sample'] = pd.Categorical(values=lin_reg_df['sample'], categories=lin_reg_df['sample'], ordered=True)"
   ]
  },
  {
   "cell_type": "code",
   "execution_count": null,
   "id": "77ca620a-44b8-4400-844f-1c232e14897a",
   "metadata": {},
   "outputs": [],
   "source": [
    "(ggplot(lin_reg_df, aes('comd_coef'))\n",
    "    + geom_histogram())"
   ]
  },
  {
   "cell_type": "code",
   "execution_count": null,
   "id": "95dfe451-0d05-4451-95d6-9efe8935b9f1",
   "metadata": {},
   "outputs": [],
   "source": [
    "comd_coef_samples_df = lin_reg_df.loc[:, ['sample', 'comd_coef']].set_index('sample')\n",
    "comd_coef_samples_df"
   ]
  },
  {
   "cell_type": "code",
   "execution_count": null,
   "id": "dd4acb0d-ef84-4a5f-a767-cef5f64c3da8",
   "metadata": {},
   "outputs": [],
   "source": [
    "comd_coef_samples_df.to_csv(data_path+'comd_coef_all_gtex_samples.csv')"
   ]
  },
  {
   "cell_type": "code",
   "execution_count": null,
   "id": "6192d2af-80e8-4538-b746-cc136138b023",
   "metadata": {},
   "outputs": [],
   "source": [
    "#comd_coef_samples_df = pd.read_csv(data_path + 'comd_coef_all_gtex_samples.csv', index_col=0)\n",
    "#comd_coef_samples_df"
   ]
  },
  {
   "cell_type": "code",
   "execution_count": null,
   "id": "73bb59e5-c952-476c-af9d-ac85ad300785",
   "metadata": {},
   "outputs": [],
   "source": [
    "comd_coef_metadata_df = comd_coef_samples_df.merge(all_metadata_df, left_index=True, right_on='sample.id')\n",
    "comd_coef_metadata_df"
   ]
  },
  {
   "cell_type": "markdown",
   "id": "02ac19e6-2cca-4c2d-93aa-e2d6bf454a99",
   "metadata": {},
   "source": [
    "Saving exon/intron ratio for transcripts with CDS where dec rate was calculated"
   ]
  },
  {
   "cell_type": "code",
   "execution_count": null,
   "id": "62fd48e7-ad55-472a-b6d3-216f6ca86ca6",
   "metadata": {},
   "outputs": [],
   "source": [
    "ei_iso_df_t.loc[dec_rates_df.index.intersection(ei_iso_df_t.index)].T.join(comd_coef_metadata_df.set_index(\n",
    "    'sample.id').loc[:, ['SMTS','comd_coef']], how='inner').rename({'SMTS':'tissue'}, axis=1).to_csv(\n",
    "    '../../figures/figure_data/fig1/samples_ei_ratios_major_iso_centered_2_3_non_na_comd_coef.csv')"
   ]
  },
  {
   "cell_type": "markdown",
   "id": "e0927451-1bd5-45a3-8469-fe1fbbc25d7c",
   "metadata": {},
   "source": [
    "# Association between the COMD coefficient and sample attributes - GTEx private dataset"
   ]
  },
  {
   "cell_type": "code",
   "execution_count": null,
   "id": "0c0ae7a2-74a8-489c-a54e-b8f970299c4c",
   "metadata": {},
   "outputs": [],
   "source": [
    "from scipy.stats import spearmanr\n",
    "\n",
    "def cor_and_plot(df, x, y, xlab=None, ylab=None):\n",
    "    \n",
    "    xlab = x if xlab is None else xlab\n",
    "    ylab = y if ylab is None else ylab\n",
    "    \n",
    "    df_plot = df.loc[:, [x,y]].dropna()\n",
    "    print(pearsonr(df_plot[x], df_plot[y]))\n",
    "    \n",
    "    \n",
    "    p = (ggplot(df, aes(x, y))\n",
    "        + geom_bin2d()\n",
    "        + labs(x=xlab, y=ylab))\n",
    "    \n",
    "    return p"
   ]
  },
  {
   "cell_type": "code",
   "execution_count": null,
   "id": "0c1e90f7-a173-4880-a5be-fb8c10cf5fb8",
   "metadata": {},
   "outputs": [],
   "source": [
    "sample_data_private = pd.read_csv(data_path+'GTEx_private_data.csv', index_col=0)\n",
    "sample_data_private"
   ]
  },
  {
   "cell_type": "code",
   "execution_count": null,
   "id": "813f2c4b-2ac2-4b31-8b24-2ea1b9691e99",
   "metadata": {},
   "outputs": [],
   "source": [
    "ann_comd_coef_df = comd_coef_metadata_df.merge(sample_data_private, left_on='SUBJID', right_on='submitter_id')\n",
    "ann_comd_coef_df"
   ]
  },
  {
   "cell_type": "code",
   "execution_count": null,
   "id": "8ef5d892-1358-470f-a765-dc317cd14caa",
   "metadata": {},
   "outputs": [],
   "source": [
    "comd_coef_ann_df = ann_comd_coef_df.set_index('SUBJID')\n",
    "comd_coef_ann_df"
   ]
  },
  {
   "cell_type": "markdown",
   "id": "190c2c9d-cfb9-4d5a-af1b-8ba3c3aee218",
   "metadata": {},
   "source": [
    "\"SMTSISCH\" -> ischemic time\n",
    "\"SMTSD\" -> subtissue\n",
    "\"age_value\" -> age\n",
    "\"sex\" -> sex"
   ]
  },
  {
   "cell_type": "markdown",
   "id": "c2144cf2-c710-4508-8d4c-56347db2ef28",
   "metadata": {},
   "source": [
    "## COMD coefficient vs ischemic time per age and tissue"
   ]
  },
  {
   "cell_type": "code",
   "execution_count": null,
   "id": "ade26aa2-95a1-4e39-a2de-48cb5180e193",
   "metadata": {},
   "outputs": [],
   "source": [
    "isc_age_df = ann_comd_coef_df.loc[:, ['SMTSISCH', 'SMTSD', 'SMTS','comd_coef','age_value', 'AGE']].dropna()"
   ]
  },
  {
   "cell_type": "code",
   "execution_count": null,
   "id": "97d6c1e8-a95c-4284-b2a8-e7777b48ffe9",
   "metadata": {},
   "outputs": [],
   "source": [
    "isc_age_df"
   ]
  },
  {
   "cell_type": "markdown",
   "id": "e8f0e927-519e-4139-9c06-1157e17c597b",
   "metadata": {},
   "source": [
    "Some samples (blood) were extracted pre-mortem and their ischemic time is negative, it will not be considered."
   ]
  },
  {
   "cell_type": "code",
   "execution_count": null,
   "id": "f73a70e6-e22f-48b6-a069-b43024914c0b",
   "metadata": {},
   "outputs": [],
   "source": [
    "isc_age_df = isc_age_df[isc_age_df['SMTSISCH']>0].copy()"
   ]
  },
  {
   "cell_type": "code",
   "execution_count": null,
   "id": "f31b5b84-85f9-4b59-a1f6-b50d3f9365db",
   "metadata": {},
   "outputs": [],
   "source": [
    "isc_age_df['ischemic_log'] = np.log(isc_age_df['SMTSISCH'])"
   ]
  },
  {
   "cell_type": "code",
   "execution_count": null,
   "id": "a4d935a4-d4a4-440a-b67a-2f1b497c8187",
   "metadata": {},
   "outputs": [],
   "source": [
    "tissues = isc_age_df['SMTS'].unique()"
   ]
  },
  {
   "cell_type": "code",
   "execution_count": null,
   "id": "afbe3301-5264-439d-9b99-d6d33e64a599",
   "metadata": {},
   "outputs": [],
   "source": [
    "isc_age_df['comd_coef_fc']=2**isc_age_df['comd_coef']"
   ]
  },
  {
   "cell_type": "code",
   "execution_count": null,
   "id": "07d13522-b0bf-45d8-922b-a7a3a49acf1c",
   "metadata": {},
   "outputs": [],
   "source": [
    "isc_age_df.to_csv('../../figures/figure_data/fig3/comd_coef_isch_all_samples.csv')"
   ]
  },
  {
   "cell_type": "code",
   "execution_count": null,
   "id": "6e8eb37a-9fc0-4ad2-bc14-e5bb87e56dd4",
   "metadata": {},
   "outputs": [],
   "source": [
    "tissue='Esophagus'\n",
    "(ggplot(isc_age_df[isc_age_df['SMTS']==tissue], aes('SMTSISCH', 'comd_coef_fc'))\n",
    "        + geom_point()\n",
    "        + scale_x_log10()\n",
    "        + scale_y_log10(breaks=[0.5, 1, 1.5, 2], limits=(0.5,2))\n",
    "        + geom_smooth(method='lm')\n",
    "        + theme_bw()\n",
    "        + theme(figure_size=(10, 7))\n",
    "        + facet_wrap('AGE')\n",
    "        + labs(x='Ischemic time [min]', y='COMD coefficient (FC/codon/s)',title='COMD coefficient vs Ischemic time in Esophagus samples per age group'))"
   ]
  },
  {
   "cell_type": "code",
   "execution_count": null,
   "id": "60316e78-5cb0-497c-82e5-a15b63cf972f",
   "metadata": {},
   "outputs": [],
   "source": [
    "tissue='Esophagus'\n",
    "(ggplot(isc_age_df[isc_age_df['SMTS']==tissue], aes('SMTSISCH', 'comd_coef_fc'))\n",
    "        + geom_point()\n",
    "        + scale_x_log10()\n",
    "        + scale_y_log10(breaks=[0.5, 1, 1.5, 2], limits=(0.5,2))\n",
    "        + geom_smooth(method='lm')\n",
    "        + theme_bw()\n",
    "        + theme(figure_size=(10, 7))\n",
    "        + facet_wrap('AGE')\n",
    "        + labs(x='Ischemic time [min]', y='COMD coefficient (FC/codon/s)',title='COMD coefficient vs Ischemic time in Esophagus samples per age group'))"
   ]
  },
  {
   "cell_type": "code",
   "execution_count": null,
   "id": "b758501a-fbc5-474f-82fa-1fb3a4d76df9",
   "metadata": {},
   "outputs": [],
   "source": [
    "df = isc_age_df[(isc_age_df['SMTS']==tissue) & (isc_age_df['AGE']=='20-29')]\n",
    "spearmanr(df['SMTSISCH'], df['comd_coef'])"
   ]
  },
  {
   "cell_type": "markdown",
   "id": "66d64475-ab46-4083-a734-85776b992100",
   "metadata": {},
   "source": [
    "## COMD coefficient vs Age"
   ]
  },
  {
   "cell_type": "code",
   "execution_count": null,
   "id": "4dbe4cb5-430d-410f-b2fa-adce963b0e9e",
   "metadata": {},
   "outputs": [],
   "source": [
    "isc_age_df"
   ]
  },
  {
   "cell_type": "code",
   "execution_count": null,
   "id": "8ae8846a-6287-464a-aa3e-1f99ae410480",
   "metadata": {},
   "outputs": [],
   "source": [
    "(ggplot(isc_age_df, aes('SMTSISCH', 'comd_coef'))\n",
    "    + geom_bin2d(bins=40)\n",
    "    + geom_smooth(method='lm')\n",
    "    + scale_x_log10()\n",
    "    + theme_bw()\n",
    "    + theme( panel_grid_major = element_blank(),\n",
    "                    #panel_grid_minor = element_blank(),\n",
    "                    #panel_border = element_blank(),\n",
    "                    panel_background = element_blank(),\n",
    "                axis_line=element_line())\n",
    "    + labs(x='Ischemic time [min]', y='COMD coefficient'))"
   ]
  },
  {
   "cell_type": "markdown",
   "id": "9fa67959-0ad4-48ac-a304-f41b14e06f22",
   "metadata": {},
   "source": [
    "## Ischemic time association correcting for tissue and age"
   ]
  },
  {
   "cell_type": "code",
   "execution_count": null,
   "id": "c55cf1d5-f42b-4603-ad9c-13fdbecad58c",
   "metadata": {},
   "outputs": [],
   "source": [
    "import statsmodels.formula.api as smf"
   ]
  },
  {
   "cell_type": "code",
   "execution_count": null,
   "id": "7248406a-bd8a-479e-ab52-8e161ce95f2f",
   "metadata": {},
   "outputs": [],
   "source": [
    "corr_df = ann_comd_coef_df.loc[ann_comd_coef_df['SMTSISCH']>0, ['SMTSISCH', 'comd_coef', 'age_value', 'SMTSD','SUBJID']].drop_duplicates()\n",
    "corr_df['isch_log'] = np.log(corr_df['SMTSISCH'])\n",
    "corr_df"
   ]
  },
  {
   "cell_type": "code",
   "execution_count": null,
   "id": "f6963549-b687-4d04-ad82-083b0890a216",
   "metadata": {},
   "outputs": [],
   "source": [
    "def get_corrected_var(df, var_to_correct, covariates):\n",
    "    \n",
    "    formula = var_to_correct + '~' + ' + '.join(covariates)\n",
    "    model = smf.ols(formula=formula, data=df)\n",
    "    results=model.fit()\n",
    "    \n",
    "    return results.resid"
   ]
  },
  {
   "cell_type": "code",
   "execution_count": null,
   "id": "f321b57e-321d-453c-8a7a-69533b47d426",
   "metadata": {},
   "outputs": [],
   "source": [
    "corr_df['comd_coef_res'] = get_corrected_var(corr_df, var_to_correct = 'comd_coef', covariates = ['age_value', 'SMTSD'])\n",
    "corr_df['comd_coef_res']"
   ]
  },
  {
   "cell_type": "code",
   "execution_count": null,
   "id": "130dcc66-a4a1-4812-b859-e5e2e6194fec",
   "metadata": {},
   "outputs": [],
   "source": [
    "corr_df.to_csv('../../figures/figure_data/fig3/corrected_comd_coef_vs_ischemic_time.csv')"
   ]
  },
  {
   "cell_type": "code",
   "execution_count": null,
   "id": "3404cbe3-ce7b-4ade-aed4-89cba6b0fb38",
   "metadata": {},
   "outputs": [],
   "source": [
    "(ggplot(corr_df, aes('SMTSISCH', 'comd_coef_res'))\n",
    "    + geom_bin2d(bins=40)\n",
    "    + geom_smooth(method='lm')\n",
    "    + theme_bw()\n",
    "    + scale_x_log10()\n",
    "    + theme( panel_grid_major = element_blank(),\n",
    "                    #panel_grid_minor = element_blank(),\n",
    "                    #panel_border = element_blank(),\n",
    "                    panel_background = element_blank(),\n",
    "                axis_line=element_line())\n",
    "    + labs(x='Ischemic time [min]', y='comd_coef*'))"
   ]
  },
  {
   "cell_type": "code",
   "execution_count": null,
   "id": "d7cae742-b36a-40d4-8844-a158bb4ff0ee",
   "metadata": {},
   "outputs": [],
   "source": [
    "spearmanr(corr_df['SMTSISCH'], corr_df['comd_coef_res'])"
   ]
  },
  {
   "cell_type": "markdown",
   "id": "8ae26e29-f28e-4d73-94f3-64857f602c3e",
   "metadata": {},
   "source": [
    "## Individual specific COMD coefficient vs age"
   ]
  },
  {
   "cell_type": "markdown",
   "id": "ef9f4264-975f-482a-9a5b-a4b65be8118b",
   "metadata": {},
   "source": [
    "We can fit a model comd_coef ~ individual + tissue, and then get the individual parameter in order to have the individual specific COMD coefficient"
   ]
  },
  {
   "cell_type": "code",
   "execution_count": null,
   "id": "180673a6-99bc-499c-a244-2623153b9aa7",
   "metadata": {},
   "outputs": [],
   "source": [
    "reference_individual = 'GTEX-WHSE'"
   ]
  },
  {
   "cell_type": "code",
   "execution_count": null,
   "id": "455d5a45-85de-4d19-a14e-8adf2f89fc11",
   "metadata": {},
   "outputs": [],
   "source": [
    "formula = f\"comd_coef ~ C(SUBJID, Treatment(reference='{reference_individual}')) + SMTSD\""
   ]
  },
  {
   "cell_type": "code",
   "execution_count": null,
   "id": "d07d8850-d89e-4d71-92ff-6aa8682d441c",
   "metadata": {},
   "outputs": [],
   "source": [
    "ann_comd_coef_df"
   ]
  },
  {
   "cell_type": "code",
   "execution_count": null,
   "id": "ca594d53-4e4a-4ed5-b4fb-4f1997e42ac9",
   "metadata": {
    "tags": []
   },
   "outputs": [],
   "source": [
    "model = smf.ols(formula=formula, data=ann_comd_coef_df)\n",
    "results=model.fit()\n",
    "results.summary()"
   ]
  },
  {
   "cell_type": "code",
   "execution_count": null,
   "id": "c5be8bc3-75dc-4d4f-9921-823c00a1a8c3",
   "metadata": {},
   "outputs": [],
   "source": [
    "model_params = results.params.copy()\n",
    "model_params.name='effect_on_comd_coef'\n",
    "model_params.index.name='param'\n",
    "model_params_df = model_params.to_frame().reset_index()\n",
    "model_params_df"
   ]
  },
  {
   "cell_type": "code",
   "execution_count": null,
   "id": "e49eb305-1fe5-4cd0-b42b-38b8a212c569",
   "metadata": {},
   "outputs": [],
   "source": [
    "model_params_df['param']=model_params_df.param.apply(lambda el: el.split('T.')[1][:-1] if 'T.' in el else el)"
   ]
  },
  {
   "cell_type": "code",
   "execution_count": null,
   "id": "0ebf9257-c79e-40a8-b542-5ec3afdfe465",
   "metadata": {},
   "outputs": [],
   "source": [
    "model_params_df"
   ]
  },
  {
   "cell_type": "code",
   "execution_count": null,
   "id": "d08a7381-e6bb-40b2-a20d-2b7d4401aa47",
   "metadata": {},
   "outputs": [],
   "source": [
    "ind_comd_coef_df = ann_comd_coef_df.merge(model_params_df, left_on='SUBJID', right_on='param').loc[:, ['SUBJID','age_value','effect_on_comd_coef']].drop_duplicates()\n",
    "ind_comd_coef_df"
   ]
  },
  {
   "cell_type": "code",
   "execution_count": null,
   "id": "162d367e-8e1a-4e39-8757-1f454c1046c4",
   "metadata": {},
   "outputs": [],
   "source": [
    "#center effect_on_comd_coef\n",
    "ind_comd_coef_df['effect_on_comd_coef'] = ind_comd_coef_df['effect_on_comd_coef'].sub(ind_comd_coef_df['effect_on_comd_coef'].mean())"
   ]
  },
  {
   "cell_type": "code",
   "execution_count": null,
   "id": "0a83ff9f-583d-40b9-b036-3feb150dbb38",
   "metadata": {},
   "outputs": [],
   "source": [
    "ind_comd_coef_df.to_csv('../../figures/figure_data/fig2/age_comd_coef_individual.csv')"
   ]
  },
  {
   "cell_type": "code",
   "execution_count": null,
   "id": "40308d66-0240-4bb4-b093-9631e6a44595",
   "metadata": {},
   "outputs": [],
   "source": [
    "(ggplot(ind_comd_coef_df, aes('age_value', 'effect_on_comd_coef'))\n",
    "    + geom_point(color='darkblue', alpha=0.35)\n",
    "    + theme_bw()\n",
    "    + geom_smooth(method='lm', color='blue')\n",
    " #+ geom_smooth(color='blue')\n",
    "    + theme( #panel_grid_major = element_blank(),\n",
    "                    panel_grid_minor = element_blank(),\n",
    "                    #panel_border = element_blank(),\n",
    "                    panel_background = element_blank()\n",
    "           )\n",
    "    + labs(x='individual\\'s age', y='individual\\'s COMD coefficient'))"
   ]
  },
  {
   "cell_type": "code",
   "execution_count": null,
   "id": "e8df2466-1033-4406-b5db-808a3622d54f",
   "metadata": {},
   "outputs": [],
   "source": [
    "spearmanr(ind_comd_coef_df['age_value'], ind_comd_coef_df['effect_on_comd_coef'])"
   ]
  },
  {
   "cell_type": "markdown",
   "id": "1a3794af-7050-4e07-bf58-ec2bebb505d8",
   "metadata": {},
   "source": [
    "## Pathways associated with changes in COMD coefficient across individuals in the same tissue"
   ]
  },
  {
   "cell_type": "code",
   "execution_count": null,
   "id": "06498913-aea7-4195-89e6-fcc3a85aa9d5",
   "metadata": {},
   "outputs": [],
   "source": [
    "gene_tpm = pd.read_csv('https://storage.googleapis.com/gtex_analysis_v7/rna_seq_data/GTEx_Analysis_2016-01-15_v7_RNASeQCv1.1.8_gene_tpm.gct.gz', sep='\\t', header=2).set_index('Description').drop('Name', axis=1).T\n",
    "gene_tpm"
   ]
  },
  {
   "cell_type": "code",
   "execution_count": null,
   "id": "2ea3e75b-3c7a-4436-bf46-577e9b7beb66",
   "metadata": {},
   "outputs": [],
   "source": [
    "gene_tpm = gene_tpm.T"
   ]
  },
  {
   "cell_type": "code",
   "execution_count": null,
   "id": "566e32a1-03ec-478f-a2ec-3f7468fc89e0",
   "metadata": {},
   "outputs": [],
   "source": [
    "gene_tpm = gene_tpm[gene_tpm>1]\n",
    "gene_tpm"
   ]
  },
  {
   "cell_type": "markdown",
   "id": "a5f5365a-2fbc-4bd8-b73e-7924d26a88f5",
   "metadata": {},
   "source": [
    "Only genes with at least 2/3 of non na across samples are considered"
   ]
  },
  {
   "cell_type": "code",
   "execution_count": null,
   "id": "d9285f7f-82c9-48e2-8f82-9bffa41bf282",
   "metadata": {},
   "outputs": [],
   "source": [
    "gene_tpm = gene_tpm.dropna(thresh=int((2/3) * len(gene_tpm.columns)))\n",
    "gene_tpm"
   ]
  },
  {
   "cell_type": "markdown",
   "id": "19f1b1eb-9578-43f2-9c5b-37c81287dd4e",
   "metadata": {},
   "source": [
    "Some genes appear multiple times for the same sample"
   ]
  },
  {
   "cell_type": "code",
   "execution_count": null,
   "id": "951381cf-d706-4c5f-b915-e9019dab6bda",
   "metadata": {},
   "outputs": [],
   "source": [
    "duplicated_genes = gene_tpm.loc[gene_tpm.index.duplicated()].index.unique()"
   ]
  },
  {
   "cell_type": "code",
   "execution_count": null,
   "id": "e058b767-5e50-401f-9384-bd223219a554",
   "metadata": {},
   "outputs": [],
   "source": [
    "duplicated_genes"
   ]
  },
  {
   "cell_type": "markdown",
   "id": "115aaeec-e6c0-4cd2-9778-0e33f8ec04b9",
   "metadata": {},
   "source": [
    "Remove duplicated genes:"
   ]
  },
  {
   "cell_type": "code",
   "execution_count": null,
   "id": "f501db60-30ab-4d86-bba3-043b82d0da21",
   "metadata": {},
   "outputs": [],
   "source": [
    "gene_tpm = gene_tpm.loc[gene_tpm.index.difference(duplicated_genes)]\n",
    "gene_tpm"
   ]
  },
  {
   "cell_type": "code",
   "execution_count": null,
   "id": "85c2c09e-ed8e-4424-b875-8db35f057631",
   "metadata": {},
   "outputs": [],
   "source": [
    "genes = gene_tpm.index"
   ]
  },
  {
   "cell_type": "code",
   "execution_count": null,
   "id": "14bc0d33-1c20-44e5-a45b-9fe45f980542",
   "metadata": {},
   "outputs": [],
   "source": [
    "gene_tpm = comd_coef_metadata_df.merge(gene_tpm.T, left_on='SAMPID', right_index=True, suffixes=('', '_y'))\n",
    "gene_tpm"
   ]
  },
  {
   "cell_type": "code",
   "execution_count": null,
   "id": "d5e334db-26f2-4c43-b9c3-c2d49e7b10c3",
   "metadata": {},
   "outputs": [],
   "source": [
    "adjust_text_dict = {\n",
    "    'expand_points': (0, 0),\n",
    "}\n",
    "\n",
    "tissues_of_interest=['Brain - Cerebellar Hemisphere', 'Skin - Not Sun Exposed (Suprapubic)','Thyroid', 'Stomach','Cells - EBV-transformed lymphocytes','Heart - Left Ventricle']\n",
    "\n",
    "(ggplot(gene_tpm[gene_tpm['SMTSD'].isin(tissues_of_interest)], aes('NDUFB3', 'comd_coef', color='SMTSD'))\n",
    "    + geom_point(size=1)\n",
    "    + geom_smooth(method='lm')\n",
    "    + theme(figure_size=(10, 10))\n",
    "    + scale_x_log10())"
   ]
  },
  {
   "cell_type": "code",
   "execution_count": null,
   "id": "473f4be5-d718-4363-a246-cbe5c0f1965f",
   "metadata": {},
   "outputs": [],
   "source": [
    "gene_tpm.loc[:, ['comd_coef', 'SMTSD', 'SMTS', 'NDUFB3']].to_csv('../../figures/figure_data/fig2/comd_coef_ndufb3_within_tissues.csv')"
   ]
  },
  {
   "cell_type": "code",
   "execution_count": null,
   "id": "522a017b-2843-498f-a2bb-5b1ad6a69881",
   "metadata": {},
   "outputs": [],
   "source": [
    "adjust_text_dict = {\n",
    "    'expand_points': (0, 0),\n",
    "}\n",
    "\n",
    "\n",
    "(ggplot(gene_tpm, aes( 'comd_coef', 'MT-RNR2'))\n",
    "    + geom_bin2d(bins=60)\n",
    "    + geom_smooth(method='lm')\n",
    "    + theme(figure_size=(10, 10))\n",
    "    + scale_y_log10())"
   ]
  },
  {
   "cell_type": "code",
   "execution_count": null,
   "id": "58d26a26-3cd6-4474-b1a2-f372d58719c1",
   "metadata": {},
   "outputs": [],
   "source": [
    "tissues=gene_tpm['SMTS'].unique()\n",
    "tissues"
   ]
  },
  {
   "cell_type": "markdown",
   "id": "d65e74d0-2469-417f-afc1-e7d2d58e1c00",
   "metadata": {},
   "source": [
    "## GSEA all samples"
   ]
  },
  {
   "cell_type": "code",
   "execution_count": null,
   "id": "1b8dd257-f494-482e-ad1b-df9e3bfe0ee5",
   "metadata": {},
   "outputs": [],
   "source": [
    "def cor_gene_comd_coef(tissue_tpm_comd_coef_df, gene, na_thresh):\n",
    "    if tissue_tpm_comd_coef_df[gene].isna().sum()>na_thresh:\n",
    "        return np.nan\n",
    "    else:\n",
    "        df = tissue_tpm_comd_coef_df.loc[:, ['comd_coef', gene]].dropna()\n",
    "        return spearmanr(df['comd_coef'], df[gene])[0]\n",
    "\n",
    "# na_thresh_ratio, proportion of non na values for the gene to be considered in the correlation\n",
    "def cor_all_genes_alpha(tissue_tpm_comd_coef_df, genes, na_thresh_ratio=2/3):\n",
    "    \n",
    "    na_thresh = na_thresh_ratio*len(tissue_tpm_comd_coef_df)\n",
    "    cor_dict = {'gene':genes,'rho':[]}\n",
    "    for gene in genes:\n",
    "        cor_dict['rho'].append(cor_gene_comd_coef(tissue_tpm_comd_coef_df, gene, na_thresh))\n",
    "        \n",
    "    return pd.DataFrame(cor_dict)"
   ]
  },
  {
   "cell_type": "markdown",
   "id": "18e17a0b-6516-4cd5-b378-c0a0ab650a8c",
   "metadata": {},
   "source": [
    "#### Ex. Brain"
   ]
  },
  {
   "cell_type": "code",
   "execution_count": null,
   "id": "8ae4cd51-1bff-4aca-9bf5-07ba11ebac13",
   "metadata": {},
   "outputs": [],
   "source": [
    "tissue_tpm_comd_coef_df = gene_tpm[gene_tpm['SMTS']=='Brain'].copy()\n",
    "tissue_tpm_comd_coef_df"
   ]
  },
  {
   "cell_type": "code",
   "execution_count": null,
   "id": "c9b0db94-b0f2-4822-a188-7163a55e992d",
   "metadata": {},
   "outputs": [],
   "source": [
    "cor_df = cor_all_genes_alpha(tissue_tpm_comd_coef_df, genes)\n",
    "cor_df"
   ]
  },
  {
   "cell_type": "code",
   "execution_count": null,
   "id": "25cd99dd-d6a7-48a9-96d6-1fb2179db6b0",
   "metadata": {},
   "outputs": [],
   "source": [
    "cor_df = cor_df.dropna().reset_index(drop=True)\n",
    "cor_df"
   ]
  },
  {
   "cell_type": "code",
   "execution_count": null,
   "id": "fe8e6f83-4629-4271-8a48-11fe01e4a88f",
   "metadata": {},
   "outputs": [],
   "source": [
    "ranked_df = cor_df.sort_values('rho', ascending=False).copy()"
   ]
  },
  {
   "cell_type": "code",
   "execution_count": null,
   "id": "3e29c680-ff89-49a7-936d-261a28bdfe02",
   "metadata": {},
   "outputs": [],
   "source": [
    "(ggplot(ranked_df, aes('rho'))\n",
    "    + geom_histogram())"
   ]
  },
  {
   "cell_type": "code",
   "execution_count": null,
   "id": "3ad2c1fb-d5b6-4ba1-9158-3a504a4dbe51",
   "metadata": {},
   "outputs": [],
   "source": [
    "ranked_df.columns=[0,1]\n",
    "ranked_df"
   ]
  },
  {
   "cell_type": "code",
   "execution_count": null,
   "id": "bd35fcff-eeee-406a-b4e3-b0ad539a4778",
   "metadata": {},
   "outputs": [],
   "source": [
    "ranked_df.reset_index(drop=True, inplace=True)"
   ]
  },
  {
   "cell_type": "code",
   "execution_count": null,
   "id": "dcbdbe03-ccfc-4f99-905c-dc338666d514",
   "metadata": {},
   "outputs": [],
   "source": [
    "import gseapy as gp"
   ]
  },
  {
   "cell_type": "code",
   "execution_count": null,
   "id": "fb6ec50f-7e2d-44e7-878b-30181d987f71",
   "metadata": {
    "tags": []
   },
   "outputs": [],
   "source": [
    "pre_res = gp.prerank(rnk=ranked_df, gene_sets='GO_Biological_Process_2018', \n",
    "                     processes=40,\n",
    "                     permutation_num=1000, seed=123)"
   ]
  },
  {
   "cell_type": "code",
   "execution_count": null,
   "id": "4ca9cfae-ed1d-413d-ad78-e8b26899bc30",
   "metadata": {},
   "outputs": [],
   "source": [
    "pre_res.res2d.sort_values(by='NES')"
   ]
  },
  {
   "cell_type": "code",
   "execution_count": null,
   "id": "4faa3f9e-26bd-4683-9d23-fcca244a849b",
   "metadata": {},
   "outputs": [],
   "source": [
    "from gseapy.plot import gseaplot\n",
    "\n",
    "term = 'respiratory electron transport chain (GO:0022904)'\n",
    "gseaplot(rank_metric=pre_res.ranking, term=term, \n",
    "         **pre_res.results[term])"
   ]
  },
  {
   "cell_type": "markdown",
   "id": "a81a6fa6-19f6-4494-843f-2a8a97b87844",
   "metadata": {},
   "source": [
    "#### All samples"
   ]
  },
  {
   "cell_type": "code",
   "execution_count": null,
   "id": "fc4bb1b0-df68-470d-a154-67ec351c3277",
   "metadata": {},
   "outputs": [],
   "source": [
    "pre_res_list =[]\n",
    "for tissue in tissues:\n",
    "    print(tissue)\n",
    "    tissue_tpm_comd_coef_df = gene_tpm[gene_tpm['SMTS']==tissue]\n",
    "    cor_tissue_df = cor_all_genes_alpha(tissue_tpm_comd_coef_df, genes)\n",
    "    cor_tissue_df\n",
    "\n",
    "    cor_tissue_df = cor_tissue_df.dropna().sort_values(by='rho')\n",
    "    cor_tissue_df\n",
    "\n",
    "    cor_tissue_df = cor_tissue_df.reset_index(drop=True)\n",
    "    ranked_df = cor_tissue_df.copy()\n",
    "    ranked_df.columns=[0,1]\n",
    "\n",
    "    try:\n",
    "        pre_res = gp.prerank(rnk=ranked_df, gene_sets='GO_Biological_Process_2018', \n",
    "                             processes=20,\n",
    "                             permutation_num=1000, seed=123)\n",
    "    except:\n",
    "        continue\n",
    "    pre_res.res2d['tissue']=tissue\n",
    "    pre_res_list.append(pre_res.res2d)"
   ]
  },
  {
   "cell_type": "code",
   "execution_count": null,
   "id": "504473a3-3e40-4dfa-901e-5a7a420e5f31",
   "metadata": {},
   "outputs": [],
   "source": [
    "fdr_thresh=0.01\n",
    "pre_res_filtered_list = []\n",
    "\n",
    "for pre_res in pre_res_list:\n",
    "    pre_res_filtered = pre_res[pre_res['FDR q-val']<=fdr_thresh].sort_values(by='NES')\n",
    "    if(len(pre_res_filtered) == 0):\n",
    "        continue\n",
    "    #Select top and bottom n pathways \n",
    "    #pre_res_filtered = pre_res_filtered.iloc[np.r_[:n, len(pre_res_filtered)-n:len(pre_res_filtered)],:].drop_duplicates()\n",
    "    pre_res_filtered_list.append(pre_res_filtered)"
   ]
  },
  {
   "cell_type": "code",
   "execution_count": null,
   "id": "e7dcf03d-4a9a-4077-8b77-cdcfac47791f",
   "metadata": {},
   "outputs": [],
   "source": [
    "pre_res_all_df = pd.concat(pre_res_filtered_list, join='outer').reset_index(drop=True)\n",
    "pre_res_all_df"
   ]
  },
  {
   "cell_type": "code",
   "execution_count": null,
   "id": "3793e684-1f2c-4e00-b0c6-13f784f4f7f9",
   "metadata": {},
   "outputs": [],
   "source": [
    "pre_res_all_df.drop('Name', axis=1).to_csv(data_path + 'gsea_within_tissues_human_comd_coef.csv')"
   ]
  },
  {
   "cell_type": "code",
   "execution_count": null,
   "id": "86aca87a-ef63-4225-87ab-ab7f1ca9ca32",
   "metadata": {},
   "outputs": [],
   "source": []
  }
 ],
 "metadata": {
  "kernelspec": {
   "display_name": "Python [conda env:anaconda-mrna_halflife2]",
   "language": "python",
   "name": "conda-env-anaconda-mrna_halflife2-py"
  },
  "language_info": {
   "codemirror_mode": {
    "name": "ipython",
    "version": 3
   },
   "file_extension": ".py",
   "mimetype": "text/x-python",
   "name": "python",
   "nbconvert_exporter": "python",
   "pygments_lexer": "ipython3",
   "version": "3.7.6"
  }
 },
 "nbformat": 4,
 "nbformat_minor": 5
}
