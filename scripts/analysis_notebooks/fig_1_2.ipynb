{
 "cells": [
  {
   "cell_type": "markdown",
   "id": "34e57c67-5239-4d56-a7d8-4b9d34602843",
   "metadata": {
    "tags": []
   },
   "source": [
    "# Figure 1 and 2 (GSEA across tissues)"
   ]
  },
  {
   "cell_type": "code",
   "execution_count": null,
   "id": "49035b9d-0156-4a3d-aafd-680486128f7d",
   "metadata": {},
   "outputs": [],
   "source": [
    "from sklearn.linear_model import LinearRegression, Ridge, RidgeCV\n",
    "from sklearn.metrics import explained_variance_score\n",
    "import pandas as pd\n",
    "import numpy as np\n",
    "from plotnine import *\n",
    "from data_utils.data_handling import DataHandler\n",
    "from scipy.stats import pearsonr, spearmanr"
   ]
  },
  {
   "cell_type": "code",
   "execution_count": null,
   "id": "305f7edb-2235-41d2-96e5-a7c6092c0f2b",
   "metadata": {},
   "outputs": [],
   "source": [
    "import rpy2\n",
    "%load_ext rpy2.ipython"
   ]
  },
  {
   "cell_type": "code",
   "execution_count": null,
   "id": "0985467f-f393-4cd6-b424-7963ed7c8e90",
   "metadata": {},
   "outputs": [],
   "source": [
    "%%R\n",
    "suppressPackageStartupMessages({\n",
    "  library(data.table)\n",
    "  library(ggplot2)\n",
    "  library(ggthemes)\n",
    "  library(ggrepel)\n",
    "  library(ggpointdensity)\n",
    "  library(viridis)\n",
    "  library(cowplot)\n",
    "})\n"
   ]
  },
  {
   "cell_type": "code",
   "execution_count": null,
   "id": "7a355101-b6bc-4fc4-9064-ca7302226049",
   "metadata": {},
   "outputs": [],
   "source": [
    "data_path = '../../data/'"
   ]
  },
  {
   "cell_type": "markdown",
   "id": "3f3b14d1-49d0-4d9b-b273-d38d6a998041",
   "metadata": {},
   "source": [
    "## Processing and loading data"
   ]
  },
  {
   "cell_type": "markdown",
   "id": "0f71ccf0-b773-4213-a56f-574e91e86ebc",
   "metadata": {},
   "source": [
    "Let's load the codon frequencies per transcript:"
   ]
  },
  {
   "cell_type": "markdown",
   "id": "ddfc1749-6ad4-4097-87cb-2f493cf5b783",
   "metadata": {},
   "source": [
    "The DataHandler class computes sequence features and other attributes of each transcript from sequence data loaded into a file (loaded_data_gencode19)"
   ]
  },
  {
   "cell_type": "code",
   "execution_count": null,
   "id": "ede48a6a-d4dc-4114-9935-7b1880ef8259",
   "metadata": {},
   "outputs": [],
   "source": [
    "data_handler = DataHandler(data_path+'loaded_data_gencode19')"
   ]
  },
  {
   "cell_type": "code",
   "execution_count": null,
   "id": "6da001c0-4b2c-47bd-a570-9478c3a00a34",
   "metadata": {},
   "outputs": [],
   "source": [
    "codon_freq_df = data_handler.get_codon_ratio()\n",
    "codon_freq_df"
   ]
  },
  {
   "cell_type": "code",
   "execution_count": null,
   "id": "cf93643f-c744-4ced-b9aa-42fed7aed82e",
   "metadata": {
    "tags": []
   },
   "outputs": [],
   "source": [
    "codons_to_use = list(codon_freq_df.columns.drop(['TAA', 'TAG', 'TGA'])) # Stop codons not considered"
   ]
  },
  {
   "cell_type": "code",
   "execution_count": null,
   "id": "7215c091-23e1-4607-9ab0-41cf1391aca1",
   "metadata": {},
   "outputs": [],
   "source": [
    "chromosome_df = data_handler.get_mrna_features(include_non_aug_start=False).loc[:, ['chromosome']]\n",
    "chromosome_df"
   ]
  },
  {
   "cell_type": "code",
   "execution_count": null,
   "id": "bf146ed8-cdce-4284-9574-d824760ecc0d",
   "metadata": {},
   "outputs": [],
   "source": [
    "codon_freq_df = codon_freq_df.join(chromosome_df, how='inner')\n",
    "codon_freq_df"
   ]
  },
  {
   "cell_type": "markdown",
   "id": "c8329b07-8712-46a0-b55c-0db1d8bd7c57",
   "metadata": {},
   "source": [
    "Relative mRNA half-lives per subtissue"
   ]
  },
  {
   "cell_type": "code",
   "execution_count": null,
   "id": "5e4e148b-6f3a-4fa2-be76-467392e6c4ea",
   "metadata": {},
   "outputs": [],
   "source": [
    "ei_centered_df = pd.read_csv(data_path+'gtex_ei_ratio_subtissues_85_percent_non_nas.csv', index_col=0)\n",
    "ei_centered_df"
   ]
  },
  {
   "cell_type": "code",
   "execution_count": null,
   "id": "2f50780e-fe53-4090-8488-5f161ee42d9a",
   "metadata": {},
   "outputs": [],
   "source": [
    "2**ei_centered_df.apply(lambda el: el.quantile(.9)- el.quantile(.1), axis=1).median()"
   ]
  },
  {
   "cell_type": "markdown",
   "id": "dab08b5e-96d2-4265-a1e0-0f2324f4b399",
   "metadata": {},
   "source": [
    "Typically mRNA stability varies 2.7-fold between tissues (median fold change between lowest and highest decile)"
   ]
  },
  {
   "cell_type": "markdown",
   "id": "4dec424e-0483-4857-a7eb-59932dfad545",
   "metadata": {},
   "source": [
    "Reference decoding rates (geometric mean of the codon decoding rates estimated in HEK293 (Tuller et al)):"
   ]
  },
  {
   "cell_type": "code",
   "execution_count": null,
   "id": "7f9516b4-26bc-4b72-ab22-60dba7b9eb9b",
   "metadata": {},
   "outputs": [],
   "source": [
    "dec_rates_df = pd.read_csv(data_path + '/gencode19_avg_dec_rate', sep=' ', names=['transcript_id','mtdr'], index_col=0)\n",
    "dec_rates_df"
   ]
  },
  {
   "cell_type": "code",
   "execution_count": null,
   "id": "bbe71c31-359f-4af4-b4d3-a3ca40cd9aa7",
   "metadata": {},
   "outputs": [],
   "source": [
    "ei_centered_df.join(dec_rates_df, how='inner').to_csv('../../figures/figure_data/fig1/ei_centered_dec_rates_subtissues.csv')"
   ]
  },
  {
   "cell_type": "markdown",
   "id": "15c68d95-199b-45e6-95a7-75b98e24d891",
   "metadata": {},
   "source": [
    "Major-tissue-level EI ratios"
   ]
  },
  {
   "cell_type": "code",
   "execution_count": null,
   "id": "2dd7d34e-3142-4807-b4d2-30bbe750d6bf",
   "metadata": {},
   "outputs": [],
   "source": [
    "ei_ratio_major_tissue_df = pd.read_csv(data_path+'gtex_ei_ratio_major_tissues_85_percent_non_nas.csv', index_col=0)\n",
    "ei_ratio_major_tissue_df"
   ]
  },
  {
   "cell_type": "code",
   "execution_count": null,
   "id": "134a2398-231e-4e61-8780-06480e9d104a",
   "metadata": {},
   "outputs": [],
   "source": [
    "all_atributes = pd.read_csv(data_path + 'GTEx_Annotations.csv')"
   ]
  },
  {
   "cell_type": "code",
   "execution_count": null,
   "id": "31b0c2c6-9922-4b37-8ddc-ce64e7de8636",
   "metadata": {
    "tags": []
   },
   "outputs": [],
   "source": [
    "tissue_subtissue_df = all_atributes.loc[:, ['SMTSD', 'SMTS']].drop_duplicates().rename({'SMTSD':'subtissue', 'SMTS':'major tissue'}, axis=1)\n",
    "tissue_subtissue_df"
   ]
  },
  {
   "cell_type": "markdown",
   "id": "2180db7f-9fe2-40c5-b197-940c1fc929a1",
   "metadata": {},
   "source": [
    "## Visualizing codon frequency vs EI ratio"
   ]
  },
  {
   "cell_type": "code",
   "execution_count": null,
   "id": "4d6d9c2f-a42d-47dd-9697-f6f7d50d75d1",
   "metadata": {},
   "outputs": [],
   "source": [
    "model_data_df = ei_centered_df.join(codon_freq_df, how='inner')\n",
    "model_data_df"
   ]
  },
  {
   "cell_type": "code",
   "execution_count": null,
   "id": "8897a9c8-da5d-4f8c-83d2-20272bee8407",
   "metadata": {},
   "outputs": [],
   "source": [
    "def quantiles_to_string(quantile):\n",
    "    left = quantile.left * 100 if quantile.left >= 0 else 0.0\n",
    "    right = quantile.right * 100\n",
    "    return f'{left:.2f}-{right:.2f}%'"
   ]
  },
  {
   "cell_type": "code",
   "execution_count": null,
   "id": "bde1a631-1781-45ac-af80-59092aea10ec",
   "metadata": {},
   "outputs": [],
   "source": [
    "def boxplot_tissues_codon_freq(df, tissues_of_interest, codon, quantiles=25, xlab=None, ylab=None, legend_position=(.75,.825)):\n",
    "    \n",
    "    tissues_codon_df = df.loc[:, [codon] + tissues_of_interest]\n",
    "    #tissues_codon_df.loc[:, tissues_of_interest] = tissues_codon_df.loc[:, tissues_of_interest].sub(tissues_codon_df.loc[:, tissues_of_interest].median(axis=0),axis=1)\n",
    "    tissues_codon_df[f'{codon}_freq_quantile'] = pd.qcut(tissues_codon_df[codon],q=quantiles, duplicates='drop')\n",
    "    tissues_codon_df[f'{codon}_freq_quantile'] = tissues_codon_df[f'{codon}_freq_quantile'].apply(quantiles_to_string)\n",
    "    \n",
    "    tissues_codon_df.loc[:, tissues_of_interest] = 2**tissues_codon_df.loc[:, tissues_of_interest]\n",
    "\n",
    "    tissues_std = tissues_codon_df.groupby(f'{codon}_freq_quantile')[tissues_of_interest].apply(lambda group: group.std()/np.sqrt(len(group))).reset_index()\n",
    "    \n",
    "    tissues_std = tissues_std.melt(id_vars=f'{codon}_freq_quantile', value_name='std', var_name='tissue').set_index([f'{codon}_freq_quantile', 'tissue'])\n",
    "    \n",
    "\n",
    "    tissues_median = tissues_codon_df.groupby(f'{codon}_freq_quantile')[tissues_of_interest].median().reset_index()\n",
    "    tissues_median = tissues_median.melt(id_vars=f'{codon}_freq_quantile', value_name='median', var_name='tissue').set_index([f'{codon}_freq_quantile', 'tissue'])\n",
    "\n",
    "    tissues_q_median_df = pd.concat([tissues_std, tissues_median], axis=1).reset_index()\n",
    "\n",
    "    xlab = codon + ' frequency' if xlab is None else xlab\n",
    "    ylab = 'Half-life fold change' if ylab is None else ylab\n",
    "\n",
    "    p = (ggplot(tissues_q_median_df, aes(x=f'{codon}_freq_quantile', y='median', color='tissue', group='tissue'))\n",
    "            + geom_line(size=1)\n",
    "            + geom_point(size=2.5)\n",
    "            + geom_errorbar(aes(x=f'{codon}_freq_quantile', ymin='median-std', ymax='median+std'),size=1)\n",
    "            + theme_bw()\n",
    "            + theme(axis_text_x = element_text(angle=45), text=element_text(size=14), figure_size=(10,8), legend_position=legend_position,  legend_title = element_text(size = 20),\n",
    "                     axis_title_x=element_text(size=19), axis_title_y=element_text(size=20),\n",
    "                    #panel_grid_minor = element_blank(),\n",
    "                    panel_border = element_blank(),\n",
    "                    panel_background = element_blank())\n",
    "            + scale_y_continuous(breaks=[0.5,1,1.5,2],limits=[0.5,2])\n",
    "            #+ scale_y_log10(breaks=[0.01, 0.1,0.5,0.25,1,2,4,10,100])\n",
    "            + labs(x=xlab, y=ylab, color='')\n",
    "            + scale_color_manual(values=[\"#A7C7E7\", \"#D26081\"]))\n",
    "    \n",
    "    return p"
   ]
  },
  {
   "cell_type": "code",
   "execution_count": null,
   "id": "fdb127bf-addc-4675-8583-1475629cf33c",
   "metadata": {},
   "outputs": [],
   "source": [
    "codon='CTG'\n",
    "tissues_of_interest=['Skin - Not Sun Exposed (Suprapubic)', 'Brain - Frontal Cortex (BA9)']\n",
    "plot_df = ei_centered_df.join(codon_freq_df, how='inner')"
   ]
  },
  {
   "cell_type": "code",
   "execution_count": null,
   "id": "68bbd6f4-4ba1-4c1c-8aef-caf16acf5f55",
   "metadata": {},
   "outputs": [],
   "source": [
    "def boxplot_tissues_codon_freq2(df, tissues_of_interest, codon, quantiles=25, xlab=None, ylab=None, legend_position=(.75,.825)):\n",
    "     \n",
    "    #Get quantiles for codon frequencies and their respective mean\n",
    "    tissues_codon_df = df.loc[:, [codon] + tissues_of_interest]\n",
    "    tissues_codon_df[f'{codon}_freq_quantile'] = pd.qcut(tissues_codon_df[codon],q=quantiles, duplicates='drop')\n",
    "    avg_codon_freq_df = tissues_codon_df.groupby([f'{codon}_freq_quantile']).mean()[codon].to_frame().rename(\n",
    "        {codon:'mean_freq'}, axis=1)\n",
    "    tissues_codon_melted_df = tissues_codon_df.melt(id_vars=[codon, f'{codon}_freq_quantile'], var_name='tissue', value_name='rel_hl')\n",
    "\n",
    "    #Get std of the mean and the mean of relative half-life for each quantile\n",
    "    tissues_std = tissues_codon_df.groupby(f'{codon}_freq_quantile')[tissues_of_interest].apply(lambda group: group.std()/np.sqrt(len(group))).reset_index()\n",
    "    tissues_std = tissues_std.melt(id_vars=f'{codon}_freq_quantile', value_name='std', var_name='tissue').set_index([f'{codon}_freq_quantile', 'tissue'])\n",
    "\n",
    "    tissues_mean = tissues_codon_df.groupby(f'{codon}_freq_quantile')[tissues_of_interest].mean().reset_index()\n",
    "    tissues_mean = tissues_mean.melt(id_vars=f'{codon}_freq_quantile', value_name='mean', var_name='tissue').set_index([f'{codon}_freq_quantile', 'tissue'])\n",
    "\n",
    "    tissues_q_mean_df = pd.concat([tissues_std, tissues_mean], axis=1).reset_index()\n",
    "\n",
    "    #Get dataframe with mean of frequency relative half-life and with std of the mean for each quantile\n",
    "    tissues_q_mean_df = tissues_q_mean_df.merge(\n",
    "        avg_codon_freq_df, left_on=f'{codon}_freq_quantile',right_index=True)\n",
    "\n",
    "    xlab = codon + ' frequency' if xlab is None else xlab\n",
    "    ylab = 'Half-life fold change' if ylab is None else ylab\n",
    "\n",
    "    p = (ggplot(tissues_q_mean_df, aes(x='mean_freq', y='2**mean',color='tissue',group='tissue'))\n",
    "            + geom_smooth(data=tissues_codon_melted_df, \n",
    "                          mapping=aes(x=codon, y='2**rel_hl', color='tissue'), method='lm')\n",
    "            + geom_errorbar(aes(x='mean_freq', ymin='2**(mean-std)', ymax='2**(mean+std)'),size=1,width = .0025)\n",
    "            + geom_point(size=2.5)\n",
    "            + theme_bw()\n",
    "            + theme(text=element_text(size=14), figure_size=(10,8), legend_position=legend_position,  \n",
    "                    legend_title = element_text(size = 20),\n",
    "                     axis_title_x=element_text(size=19), axis_title_y=element_text(size=20),\n",
    "                    #panel_grid_minor = element_blank(),\n",
    "                    panel_border = element_blank(),\n",
    "                    panel_background = element_blank())\n",
    "            + scale_y_log10(breaks=[0.5,1,1.5,2])\n",
    "            + coord_cartesian(xlim=(0,0.1),ylim=(np.log10(0.5),np.log10(2)))\n",
    "            + labs(x=xlab, y=ylab, color='')\n",
    "            + scale_color_manual(values=[\"#A7C7E7\", \"#D26081\"]))\n",
    "    \n",
    "    return p"
   ]
  },
  {
   "cell_type": "code",
   "execution_count": null,
   "id": "4baece60-c6c5-47ab-85a3-aa18df88c111",
   "metadata": {},
   "outputs": [],
   "source": [
    "p = boxplot_tissues_codon_freq2(plot_df, tissues_of_interest, codon=codon, quantiles=15, ylab='Relative mRNA half-life',\n",
    "                          xlab='\\nCUG frequency', legend_position=(.75,.85))\n",
    "p"
   ]
  },
  {
   "cell_type": "code",
   "execution_count": null,
   "id": "545f0278-bdb8-4a5b-9585-a8547b4a4203",
   "metadata": {},
   "outputs": [],
   "source": [
    "p.save('../../figures/plots/fig1/cug_rel_hl_skin_brain.png')"
   ]
  },
  {
   "cell_type": "code",
   "execution_count": null,
   "id": "b1cca40e-0589-43da-b86f-e03bd09af479",
   "metadata": {},
   "outputs": [],
   "source": [
    "p = boxplot_tissues_codon_freq(plot_df, tissues_of_interest, codon=codon, quantiles=15, ylab='Relative mRNA half-life',\n",
    "                          xlab='\\nCUG frequency', legend_position=(.75,.85))\n",
    "p"
   ]
  },
  {
   "cell_type": "markdown",
   "id": "f136818f-fa0a-46f9-ae50-fbca645383fd",
   "metadata": {},
   "source": [
    "## Computing COMD coefficient and evaluating the predictive power of reference decoding rate on relative mRNA HL"
   ]
  },
  {
   "cell_type": "code",
   "execution_count": null,
   "id": "4ec6b048-fc16-4a25-8eee-7a21a1f4542f",
   "metadata": {},
   "outputs": [],
   "source": [
    "model_data_df = ei_centered_df.join(chromosome_df, how='inner')\n",
    "model_data_df = model_data_df.join(dec_rates_df, how='inner')\n",
    "model_data_df"
   ]
  },
  {
   "cell_type": "code",
   "execution_count": null,
   "id": "c0dda2f5-3dd3-4123-b322-6f12f143d54c",
   "metadata": {},
   "outputs": [],
   "source": [
    "model_data_df.mtdr.quantile(.96) - model_data_df.mtdr.quantile(.04) "
   ]
  },
  {
   "cell_type": "markdown",
   "id": "2550c0f9-b683-4823-a1ee-8dc21d8234eb",
   "metadata": {},
   "source": [
    "~1 codon per second corresponds to the difference between the slower and the faster 4th percentile"
   ]
  },
  {
   "cell_type": "markdown",
   "id": "5f517ebf-805b-4b14-954a-dc9a325da396",
   "metadata": {},
   "source": [
    "### Predictive power of reference decoding rate on mRNA half-life"
   ]
  },
  {
   "cell_type": "code",
   "execution_count": null,
   "id": "b68777d9-05f7-46b5-bf69-e4d6022636f5",
   "metadata": {
    "tags": []
   },
   "outputs": [],
   "source": [
    "def uni_var_linreg_tissues(tissues, train_df, test_df, feature):\n",
    "    # If test_df = None, model will be trained and evaluated on the train_df \n",
    "    \n",
    "    models_dict = {'tissue': tissues, 'model': [], 'exp_var_test': [], 'r_test':[]}\n",
    "    test_preds_list = []\n",
    "    coefs_df_list = []\n",
    "\n",
    "    for tissue in tissues:\n",
    "\n",
    "        train_tissue_df = train_df.loc[:, [tissue, feature]].dropna()\n",
    "        test_tissue_df = test_df.loc[:, [tissue, feature]].dropna() if test_df is not None else train_tissue_df\n",
    "\n",
    "        model = LinearRegression()\n",
    "        model.fit(train_tissue_df[feature].values.reshape(-1, 1), train_tissue_df[tissue].values)\n",
    "        \n",
    "        test_tissue_df['prediction'] = model.predict(test_tissue_df[feature].values.reshape(-1, 1))\n",
    "        exp_var_test = explained_variance_score(test_tissue_df[tissue].values, test_tissue_df['prediction'])\n",
    "        pearson_test = pearsonr(test_tissue_df[tissue].values, test_tissue_df['prediction'])[0]\n",
    "\n",
    "        models_dict['model'].append(model)\n",
    "        models_dict['r_test'].append(pearson_test)\n",
    "        models_dict['exp_var_test'].append(exp_var_test)\n",
    "\n",
    "        test_tissue_preds_df = test_tissue_df.loc[:, [tissue, 'prediction']].rename({tissue:'ground_truth'}, axis=1)\n",
    "        test_tissue_preds_df['tissue'] = tissue\n",
    "        test_preds_list.append(test_tissue_preds_df)\n",
    "        coefs_df_list.append(model.coef_[0])\n",
    "\n",
    "    coefs_df = pd.DataFrame({'tissue':tissues, 'coef':coefs_df_list}).sort_values(by='coef')\n",
    "    test_preds_df = pd.concat(test_preds_list)\n",
    "    model_df = pd.DataFrame(models_dict)\n",
    "\n",
    "    return coefs_df, test_preds_df, model_df"
   ]
  },
  {
   "cell_type": "markdown",
   "id": "7c5dcc84-083e-450e-9b35-e9d5aeac8db7",
   "metadata": {},
   "source": [
    "Let's compute the linear regression on random chromosome test sets in order to get an estimate of the error in the perfomance metrics"
   ]
  },
  {
   "cell_type": "code",
   "execution_count": null,
   "id": "876e8345-d1f5-4dd3-b797-b7bc324486c7",
   "metadata": {},
   "outputs": [],
   "source": [
    "n_test_sets = 10\n",
    "model_df_list = []\n",
    "for test_set_i in range(n_test_sets):\n",
    "    \n",
    "    bad_test_set_size = True\n",
    "    while bad_test_set_size:\n",
    "        # Sample from 3 to 6 chromosomes to belong to the test set, the size of test has to be between 0.2 and 0.25 of the \n",
    "        # total amount of points\n",
    "        test_chromosomes = np.random.choice(model_data_df['chromosome'].unique(), size=np.random.randint(low=3,high=6), replace=False)\n",
    "        train_df = model_data_df[~model_data_df['chromosome'].isin(test_chromosomes)]\n",
    "        test_df = model_data_df[model_data_df['chromosome'].isin(test_chromosomes)]\n",
    "    \n",
    "        test_all_ratio = len(test_df)/len(model_data_df)\n",
    "        if  (test_all_ratio >= 0.2) & (test_all_ratio <= 0.25):\n",
    "            bad_test_set_size = False\n",
    "            print(test_chromosomes)\n",
    "            print('test set ratio:', test_all_ratio)\n",
    "            \n",
    "    coefs_df, test_preds_df, model_df = uni_var_linreg_tissues(tissues=ei_centered_df.columns, train_df=train_df, test_df=test_df, feature='mtdr')\n",
    "    \n",
    "    model_df.set_index('tissue', inplace=True)\n",
    "    model_df.columns = model_df.columns + f'_test_set_{test_set_i}'\n",
    "    model_df_list.append(model_df)"
   ]
  },
  {
   "cell_type": "code",
   "execution_count": null,
   "id": "7d23f759-48fc-4d47-ae2d-f8f2eddc6623",
   "metadata": {},
   "outputs": [],
   "source": [
    "models_df = pd.concat(model_df_list, axis=1)"
   ]
  },
  {
   "cell_type": "code",
   "execution_count": null,
   "id": "55468de4-a19c-4a8e-990f-afcc5611479d",
   "metadata": {},
   "outputs": [],
   "source": [
    "models_df['r_test_std'] = models_df.loc[:, models_df.columns.str.contains('^r_test')].std(axis=1)\n",
    "models_df['r_test_mean'] = models_df.loc[:, models_df.columns.str.contains('^r_test')].mean(axis=1)"
   ]
  },
  {
   "cell_type": "code",
   "execution_count": null,
   "id": "6fd31a92-d19f-4391-8373-6193a8161acf",
   "metadata": {},
   "outputs": [],
   "source": [
    "models_df['exp_var_test_std'] = models_df.loc[:, models_df.columns.str.contains('exp_var_test')].std(axis=1)\n",
    "models_df['exp_var_test_mean'] = models_df.loc[:, models_df.columns.str.contains('exp_var_test')].mean(axis=1)"
   ]
  },
  {
   "cell_type": "code",
   "execution_count": null,
   "id": "cec0b416-1092-4359-ac61-722b553154b1",
   "metadata": {},
   "outputs": [],
   "source": [
    "models_df.reset_index(inplace=True)\n",
    "models_df['tissue'] = pd.Categorical(values=models_df['tissue'].values, \n",
    "                                    categories=models_df.sort_values(by='r_test_mean')['tissue'], ordered=True)\n",
    "\n",
    "(ggplot(models_df, aes('tissue', 'r_test_mean'))\n",
    "    + geom_col(fill='grey', color='white')\n",
    "    + geom_errorbar(aes(ymin='r_test_mean-r_test_std', ymax='r_test_mean+r_test_std')) \n",
    "    + theme_bw()\n",
    "    + theme(panel_grid_major_x = element_blank(),\n",
    "            panel_background = element_blank(),\n",
    "            axis_line=element_line(), \n",
    "            axis_text_x = element_text(angle=50, size=9,hjust = 1), figure_size=(9,6))\n",
    "    + labs(y='r test set'))"
   ]
  },
  {
   "cell_type": "markdown",
   "id": "3d3db29e-84c2-4517-aedf-017b87f3d800",
   "metadata": {},
   "source": [
    "### Computing the COMD coefficient"
   ]
  },
  {
   "cell_type": "markdown",
   "id": "8557b366-c045-4e50-9005-edc316334c12",
   "metadata": {},
   "source": [
    "#### Subtissue level"
   ]
  },
  {
   "cell_type": "markdown",
   "id": "b0b41118-a30b-44d3-ab40-96a48c8d4d56",
   "metadata": {},
   "source": [
    "To do it we are going to consider the whole dataset and not divide into sets."
   ]
  },
  {
   "cell_type": "code",
   "execution_count": null,
   "id": "e6c429c2-2980-4c49-a79f-d7c35b159cd5",
   "metadata": {},
   "outputs": [],
   "source": [
    "coefs_df, test_preds_df, model_df = uni_var_linreg_tissues(tissues=ei_centered_df.columns, train_df=model_data_df, test_df=None, feature='mtdr')"
   ]
  },
  {
   "cell_type": "code",
   "execution_count": null,
   "id": "8983ebdb-446f-4636-8e12-8cd47bb258f5",
   "metadata": {},
   "outputs": [],
   "source": [
    "comd_df = coefs_df.copy()\n",
    "comd_df.rename({'coef':'comd_coef'}, axis=1, inplace=True)"
   ]
  },
  {
   "cell_type": "code",
   "execution_count": null,
   "id": "b398c0fc-7c97-4385-bda5-eb79921f5531",
   "metadata": {},
   "outputs": [],
   "source": [
    "comd_df.to_csv(data_path + 'comd_coef_subtissues.csv')\n",
    "comd_df.to_csv('../../figures/figure_data/fig1/comd_coef_subtissues.csv')"
   ]
  },
  {
   "cell_type": "code",
   "execution_count": null,
   "id": "fc49bd5f-f8f5-42c6-9e69-077effb543a7",
   "metadata": {},
   "outputs": [],
   "source": [
    "model_df.reset_index(inplace=True)\n",
    "model_df['tissue'] = pd.Categorical(values=model_df['tissue'].values, \n",
    "                                    categories=model_df.sort_values(by='r_test')['tissue'], ordered=True)\n",
    "\n",
    "(ggplot(model_df, aes('tissue', 'r_test'))\n",
    "    + geom_col(fill='grey', color='white')\n",
    "    + theme_bw()\n",
    "    + theme(panel_grid_major_x = element_blank(),\n",
    "            panel_background = element_blank(),\n",
    "            axis_line=element_line(), \n",
    "            axis_text_x = element_text(angle=50, size=9,hjust = 1), figure_size=(9,6))\n",
    "    + labs(y='r all data'))"
   ]
  },
  {
   "cell_type": "code",
   "execution_count": null,
   "id": "3d8d4981-4904-493a-982d-e193bc755ce3",
   "metadata": {},
   "outputs": [],
   "source": [
    "coefs_df['tissue'] = pd.Categorical(values=coefs_df['tissue'].values, categories=coefs_df.sort_values(by='coef')['tissue'], ordered=True)\n",
    "\n",
    "(ggplot(coefs_df, aes('tissue', 'coef'))\n",
    "    + geom_point(color='green', size=3)\n",
    "    + scale_y_continuous(limits=(-0.6,0.7))\n",
    "    + theme_bw()\n",
    "    + theme( panel_grid_major = element_blank(), legend_title = element_text(size = 20),\n",
    "                    #panel_grid_minor = element_blank(),\n",
    "                    #panel_border = element_blank(),\n",
    "                    panel_background = element_blank(),\n",
    "                axis_line=element_line(), \n",
    "           axis_text_x = element_text(angle=50, size=10,hjust = 1), figure_size=(12,4), axis_title_x=element_text(size=16), axis_title_y=element_text(size=16),\n",
    "         axis_text_y = element_text(size=11))\n",
    ")"
   ]
  },
  {
   "cell_type": "markdown",
   "id": "240600bb-b607-414f-8fcc-ec46926bf8db",
   "metadata": {},
   "source": [
    "#### Major tissue level"
   ]
  },
  {
   "cell_type": "code",
   "execution_count": null,
   "id": "28b365e1-abcd-448f-83d8-d1f351a23602",
   "metadata": {},
   "outputs": [],
   "source": [
    "model_data_df = ei_ratio_major_tissue_df.join(chromosome_df, how='inner')\n",
    "model_data_df = model_data_df.join(dec_rates_df, how='inner')\n",
    "model_data_df"
   ]
  },
  {
   "cell_type": "markdown",
   "id": "e7eefdc1-9cfe-4681-b723-40b1ea089008",
   "metadata": {},
   "source": [
    "To do it we are going to consider the whole dataset and not divide into sets."
   ]
  },
  {
   "cell_type": "code",
   "execution_count": null,
   "id": "43f15671-5bb5-4b64-ab0f-6cda767c6463",
   "metadata": {},
   "outputs": [],
   "source": [
    "coefs_df, test_preds_df, model_df = uni_var_linreg_tissues(tissues=ei_ratio_major_tissue_df.columns, train_df=model_data_df, test_df=None, feature='mtdr')"
   ]
  },
  {
   "cell_type": "code",
   "execution_count": null,
   "id": "08f66b7f-16cb-4378-8a75-a457f7a067b7",
   "metadata": {},
   "outputs": [],
   "source": [
    "comd_major_tissue_df = coefs_df.copy()"
   ]
  },
  {
   "cell_type": "code",
   "execution_count": null,
   "id": "4a251a29-06db-49d9-b5fc-ba61d9f8f4c2",
   "metadata": {},
   "outputs": [],
   "source": [
    "comd_major_tissue_df.rename({'coef':'comd_coef'}, axis=1, inplace=True)"
   ]
  },
  {
   "cell_type": "code",
   "execution_count": null,
   "id": "a370b92d-4f02-47a1-9729-d23c9a52ba74",
   "metadata": {},
   "outputs": [],
   "source": [
    "comd_major_tissue_df.to_csv(data_path + 'comd_coef_tissue.csv')"
   ]
  },
  {
   "cell_type": "code",
   "execution_count": null,
   "id": "adf0781e-705f-4b1f-9de0-004c7bb3bf5b",
   "metadata": {},
   "outputs": [],
   "source": [
    "comd_major_tissue_df.to_csv('../../figures/figure_data/fig1/comd_coef_tissue.csv')"
   ]
  },
  {
   "cell_type": "code",
   "execution_count": null,
   "id": "71029a80-bd50-41c0-b576-91e81a9bb618",
   "metadata": {},
   "outputs": [],
   "source": [
    "model_df.reset_index(inplace=True)\n",
    "model_df['tissue'] = pd.Categorical(values=model_df['tissue'].values, \n",
    "                                    categories=model_df.sort_values(by='r_test')['tissue'], ordered=True)\n",
    "\n",
    "(ggplot(model_df, aes('tissue', 'r_test'))\n",
    "    + geom_col(fill='grey', color='white')\n",
    "    + theme_bw()\n",
    "    + theme(panel_grid_major_x = element_blank(),\n",
    "            panel_background = element_blank(),\n",
    "            axis_line=element_line(), \n",
    "            axis_text_x = element_text(angle=50, size=9,hjust = 1), figure_size=(9,6))\n",
    "    + labs(y='r test set'))"
   ]
  },
  {
   "cell_type": "code",
   "execution_count": null,
   "id": "adfb4c49-b188-461b-a050-27d2cc5a0d30",
   "metadata": {},
   "outputs": [],
   "source": [
    "coefs_df['tissue'] = pd.Categorical(values=coefs_df['tissue'].values, categories=coefs_df.sort_values(by='coef')['tissue'], ordered=True)\n",
    "\n",
    "(ggplot(coefs_df, aes('tissue', 'coef'))\n",
    "    + geom_point(color='green', size=3)\n",
    "    + scale_y_continuous(limits=(-0.6,0.6))\n",
    "    + theme_bw()\n",
    "    + theme( panel_grid_major = element_blank(), legend_title = element_text(size = 10),\n",
    "                    #panel_grid_minor = element_blank(),\n",
    "                    #panel_border = element_blank(),\n",
    "                    panel_background = element_blank(),\n",
    "                axis_line=element_line(), \n",
    "           axis_text_x = element_text(angle=50, size=10,hjust = 1), figure_size=(8,3), axis_title_x=element_text(size=16), axis_title_y=element_text(size=16),\n",
    "         axis_text_y = element_text(size=11)))"
   ]
  },
  {
   "cell_type": "markdown",
   "id": "cf07a8e9-b27e-4639-aed6-6ae648d115cc",
   "metadata": {},
   "source": [
    "## Heatmap of the slope between codon frequency and relative mRNA half-life "
   ]
  },
  {
   "cell_type": "code",
   "execution_count": null,
   "id": "d3011630-f69d-4062-881e-8841011f0c40",
   "metadata": {},
   "outputs": [],
   "source": [
    "codon_ei_df = ei_centered_df.join(codon_freq_df, how='inner')\n",
    "codon_ei_df"
   ]
  },
  {
   "cell_type": "markdown",
   "id": "441487a3-e676-40d0-b8d2-753ef24f4213",
   "metadata": {},
   "source": [
    "Let's compute the slope of codon frequency vs HL"
   ]
  },
  {
   "cell_type": "code",
   "execution_count": null,
   "id": "12d5dcf7-5e02-4914-915c-7eb42f6d5e26",
   "metadata": {},
   "outputs": [],
   "source": [
    "tissues = ei_centered_df.columns\n",
    "\n",
    "for j, tissue in enumerate(tissues):\n",
    "    codon_coef_list = []\n",
    "    codon_list = []\n",
    "    for codon in codons_to_use:\n",
    "        ei_codon_i_tissue_j = codon_ei_df.loc[:, [codon, tissue]].dropna()\n",
    "        codon_list.append(codon)\n",
    "        model = LinearRegression()\n",
    "        x = ei_codon_i_tissue_j.loc[:, codon].values.reshape(-1, 1)\n",
    "        y = ei_codon_i_tissue_j.loc[:, tissue]\n",
    "        model.fit(x, y)\n",
    "        codon_coef_list.append(model.coef_[0])\n",
    "    \n",
    "    tissue_coefs_df = pd.DataFrame({'codon':codon_list, tissue: codon_coef_list})\n",
    "    \n",
    "    if j==0:\n",
    "        all_tissue_coefs_df = tissue_coefs_df\n",
    "    else:\n",
    "        all_tissue_coefs_df = all_tissue_coefs_df.merge(tissue_coefs_df, left_on='codon', right_on='codon')"
   ]
  },
  {
   "cell_type": "markdown",
   "id": "8342f90f-d27b-4357-a176-17c6cfda804d",
   "metadata": {},
   "source": [
    "Order tissues by its comd coefficient value:"
   ]
  },
  {
   "cell_type": "code",
   "execution_count": null,
   "id": "2bc4bfd3-f101-4285-bcd0-7dac0d14e882",
   "metadata": {},
   "outputs": [],
   "source": [
    "all_tissue_coefs_df = all_tissue_coefs_df.set_index('codon').loc[:, comd_df.tissue]"
   ]
  },
  {
   "cell_type": "code",
   "execution_count": null,
   "id": "e0474880-2d22-4985-b69e-6b5cf7379633",
   "metadata": {},
   "outputs": [],
   "source": [
    "import seaborn as sns"
   ]
  },
  {
   "cell_type": "code",
   "execution_count": null,
   "id": "f3542eb6-b692-41ac-ad15-a3e3e1b565fc",
   "metadata": {},
   "outputs": [],
   "source": [
    "sns.clustermap(all_tissue_coefs_df, xticklabels=True, yticklabels=True, figsize=(11,11),method='average', row_cluster=True, col_cluster=False, \n",
    "                       cmap=\"RdBu_r\", cbar_kws={'label': 'estimated effect\\n on HL fold change'})"
   ]
  },
  {
   "cell_type": "markdown",
   "id": "2d3d4277-a2c3-45d4-b42a-ca447e7c1b26",
   "metadata": {},
   "source": [
    "Loading codon optimalit and speed metrics:"
   ]
  },
  {
   "cell_type": "code",
   "execution_count": null,
   "id": "6bdd2437-feb6-448a-b251-244d5a06f723",
   "metadata": {},
   "outputs": [],
   "source": [
    "cdt_df = pd.read_csv(data_path+'cdt_tuller_organisms.csv', sep=';').dropna().set_index('Codon').loc[:, ['H. sapiens  HEK293']]\n",
    "cdt_df.rename({'H. sapiens  HEK293':'decoding_time'}, axis=1, inplace=True)\n",
    "cdt_df['decoding rate (HEK293)'] = 1/cdt_df['decoding_time']\n",
    "csc_df = pd.read_csv(data_path+'csc_wu_etal.csv')\n",
    "csc_df['average csc']=csc_df.loc[:, ['293T_endo', 'HeLa_endo', 'RPE_endo', '293T_ORFome','K562_ORFome']].mean(axis=1) \n",
    "csc_df.set_index('codon', inplace=True)"
   ]
  },
  {
   "cell_type": "code",
   "execution_count": null,
   "id": "946c6835-79d6-4e24-808b-db6a22df982e",
   "metadata": {},
   "outputs": [],
   "source": [
    "codon_metrics_df = pd.concat([cdt_df, csc_df], join='inner', axis=1)\n",
    "codon_metrics_df"
   ]
  },
  {
   "cell_type": "code",
   "execution_count": null,
   "id": "c6cf084f-548d-44db-b999-c5fd4e39b0b4",
   "metadata": {},
   "outputs": [],
   "source": [
    "tissues = ei_centered_df.columns\n",
    "r_plot_df = all_tissue_coefs_df.join(codon_metrics_df.loc[:, 'decoding rate (HEK293)'], how='inner')\n",
    "r_plot_df = r_plot_df.sort_values(by= 'Skin - Sun Exposed (Lower leg)')\n",
    "sat_value=10\n",
    "r_plot_df.loc[:, tissues] = r_plot_df.loc[:, tissues].applymap(lambda el: np.sign(el)*sat_value if np.abs(el)>sat_value else el) #saturate values to sat_value\n",
    "r_plot_df.to_csv('../../figures/figure_data/fig1/codon_subtissue_effects_rplot.csv')"
   ]
  },
  {
   "cell_type": "markdown",
   "id": "a17f6319-73f9-488b-8122-2703d48211df",
   "metadata": {},
   "source": [
    "## Correlation between estimated codon effects per tissue and codon optimality metrics"
   ]
  },
  {
   "cell_type": "code",
   "execution_count": null,
   "id": "d64e2c86-04cb-44dc-acd2-411e31d6f181",
   "metadata": {},
   "outputs": [],
   "source": [
    "metrics_of_interest = ['293T_endo', 'HeLa_endo', 'RPE_endo', '293T_ORFome','K562_ORFome','average csc','decoding rate (HEK293)']\n",
    "all_tissue_coefs_df = all_tissue_coefs_df.join(codon_metrics_df.loc[:, metrics_of_interest], how='inner')"
   ]
  },
  {
   "cell_type": "code",
   "execution_count": null,
   "id": "dabfe4e4-3fbb-47e1-ae1a-ec367918acf6",
   "metadata": {},
   "outputs": [],
   "source": [
    "all_tissue_coefs_df.reset_index(inplace=True)\n",
    "all_tissue_coefs_df"
   ]
  },
  {
   "cell_type": "code",
   "execution_count": null,
   "id": "13b4f198-5586-4a14-bb45-08a0cdca8e2a",
   "metadata": {},
   "outputs": [],
   "source": [
    "cor_df = all_tissue_coefs_df.corr(method='spearman')"
   ]
  },
  {
   "cell_type": "code",
   "execution_count": null,
   "id": "9c77707c-39fc-4742-a2b4-2aae122a51d5",
   "metadata": {},
   "outputs": [],
   "source": [
    "# Correlation heatmap\n",
    "import matplotlib.pyplot as plt\n",
    "sns.set(font_scale=2)\n",
    "corr_df = all_tissue_coefs_df.corr(method='spearman')\n",
    "fig, ax = plt.subplots(figsize=(15,30)) \n",
    "\n",
    "cor_plot = sns.heatmap(cor_df.iloc[:,49:], cmap='RdBu', ax=ax, annot=True, cbar_kws={'label': 'correlation (\\u03c1)','shrink': 0.2}, annot_kws={\"fontsize\":20})"
   ]
  },
  {
   "cell_type": "code",
   "execution_count": null,
   "id": "1770bf9f-76b1-451a-af98-890e850d52b7",
   "metadata": {},
   "outputs": [],
   "source": [
    "fig.savefig(\"../../figures/plots/fig1/cor_optimality_dec_rate_codon_effects.png\", dpi=200,bbox_inches=\"tight\")"
   ]
  },
  {
   "cell_type": "markdown",
   "id": "36561add-76f0-4455-97e2-08220b3806d9",
   "metadata": {},
   "source": [
    "## Gene set enrichment analysis COMD coefficient vs gene expression"
   ]
  },
  {
   "cell_type": "markdown",
   "id": "65a48d82-9f3b-4aed-9d30-345d02d5067c",
   "metadata": {},
   "source": [
    "Loading tpms per transcript and tissue from gtex"
   ]
  },
  {
   "cell_type": "code",
   "execution_count": null,
   "id": "f51f1fbc-4e7f-4af6-bbb0-fb9f0260e6ab",
   "metadata": {},
   "outputs": [],
   "source": [
    "tpm_df = pd.read_csv(data_path + 'gtex_official_median_tpm_per_tissue.csv').drop('gene_id', axis=1)\n",
    "tpm_df"
   ]
  },
  {
   "cell_type": "code",
   "execution_count": null,
   "id": "8493e994-a870-4d25-bc2f-e8939b26ae12",
   "metadata": {},
   "outputs": [],
   "source": [
    "tpm_df = tpm_df.set_index('Description').T"
   ]
  },
  {
   "cell_type": "code",
   "execution_count": null,
   "id": "d0c7779f-ad6d-4e95-9759-f2b2cc678ead",
   "metadata": {},
   "outputs": [],
   "source": [
    "tpm_df = tpm_df.merge(tissue_subtissue_df, left_index=True, right_on='subtissue').drop(['subtissue'], axis=1)\n",
    "tpm_df"
   ]
  },
  {
   "cell_type": "code",
   "execution_count": null,
   "id": "482d7da6-f0ec-4181-b3f8-26535bffa7db",
   "metadata": {},
   "outputs": [],
   "source": [
    "tpm_df = tpm_df.groupby('major tissue').median().T.reset_index().rename({'index':'Description'}, axis=1).set_index('Description')\n",
    "tpm_df"
   ]
  },
  {
   "cell_type": "markdown",
   "id": "44668daf-a379-4979-882a-4b5f377a5bb5",
   "metadata": {},
   "source": [
    "Consider genes with TPM>1 across all tissues"
   ]
  },
  {
   "cell_type": "code",
   "execution_count": null,
   "id": "0445fdae-0196-4401-8963-f9038942edd2",
   "metadata": {},
   "outputs": [],
   "source": [
    "tpm_df = tpm_df[tpm_df>1]\n",
    "tpm_df = tpm_df.dropna()\n",
    "tpm_df"
   ]
  },
  {
   "cell_type": "markdown",
   "id": "16440402-1f3c-4760-acf3-43349f398227",
   "metadata": {},
   "source": [
    "This gene appears more than once with the same name (snoRNA)"
   ]
  },
  {
   "cell_type": "code",
   "execution_count": null,
   "id": "c68cb865-27cc-4ef8-b199-3ca9c0a09ac0",
   "metadata": {},
   "outputs": [],
   "source": [
    "duplicated_genes = tpm_df.loc[tpm_df.index.duplicated()].index.unique()\n",
    "duplicated_genes"
   ]
  },
  {
   "cell_type": "markdown",
   "id": "79c6ffe4-0b70-48eb-8302-078d2abdb665",
   "metadata": {},
   "source": [
    "Remove duplicated genes:"
   ]
  },
  {
   "cell_type": "code",
   "execution_count": null,
   "id": "6c21c2e7-5b2f-46d8-be99-6d73a44f27dd",
   "metadata": {},
   "outputs": [],
   "source": [
    "tpm_df = tpm_df.loc[tpm_df.index.difference(duplicated_genes)].T\n",
    "tpm_df"
   ]
  },
  {
   "cell_type": "code",
   "execution_count": null,
   "id": "65efe86e-61de-4d7c-8e2d-9975a476077d",
   "metadata": {},
   "outputs": [],
   "source": [
    "exp_comd_df = comd_major_tissue_df.merge(tpm_df, left_on='tissue', right_index=True)\n",
    "exp_comd_df"
   ]
  },
  {
   "cell_type": "code",
   "execution_count": null,
   "id": "763aade5-60f8-4909-8f5e-820c36b3e49f",
   "metadata": {},
   "outputs": [],
   "source": [
    "rho_list = []\n",
    "for gene in tpm_df.columns:\n",
    "    rho_list.append(float(spearmanr(exp_comd_df['comd_coef'], exp_comd_df[gene])[0]))\n",
    "    \n",
    "rho_df = pd.DataFrame({'gene': tpm_df.columns, 'rho': rho_list})\n",
    "rho_df"
   ]
  },
  {
   "cell_type": "code",
   "execution_count": null,
   "id": "d6fd01f2-4bc2-4cb6-9938-6840092def95",
   "metadata": {},
   "outputs": [],
   "source": [
    "rho_df = rho_df.dropna().sort_values('rho', ascending=False)\n",
    "rho_df"
   ]
  },
  {
   "cell_type": "markdown",
   "id": "32470d05-5e94-430c-b355-32002135b039",
   "metadata": {},
   "source": [
    "Prepare the data table for inpout into the gsea prerank function:"
   ]
  },
  {
   "cell_type": "code",
   "execution_count": null,
   "id": "754667d5-f0bf-4e13-b90a-7822b33a0252",
   "metadata": {},
   "outputs": [],
   "source": [
    "rho_df.columns = [0,1]\n",
    "rho_df.reset_index(drop=True,inplace=True)\n",
    "rho_df"
   ]
  },
  {
   "cell_type": "code",
   "execution_count": null,
   "id": "654cfc5d-357b-4a9d-92aa-8af2037ab3d5",
   "metadata": {
    "tags": []
   },
   "outputs": [],
   "source": [
    "import gseapy as gp\n",
    "pre_res = gp.prerank(rnk=rho_df, gene_sets='GO_Biological_Process_2018',\n",
    "                     processes=40,\n",
    "                     permutation_num=40000,\n",
    "                     outdir='gsea_results/gtex_major_tissue_comd_coef_gsea', format='svg', seed=123)"
   ]
  },
  {
   "cell_type": "markdown",
   "id": "caad3f1f-b629-4791-8c8f-9817644f7a56",
   "metadata": {},
   "source": [
    "There are genes with the same spearman correlation. Untying them is arbitrary, but the rank of those genes with respect to all is still the same. After running gsea untying the list by adding small random noise, the results barely change. "
   ]
  },
  {
   "cell_type": "code",
   "execution_count": null,
   "id": "1df33866-7bee-4b4c-a988-57a46f725dae",
   "metadata": {
    "tags": []
   },
   "outputs": [],
   "source": [
    "pre_res.res2d.drop('Name', axis=1).set_index('Term').to_csv(data_path + 'gsea_human_comd_results.csv')"
   ]
  },
  {
   "cell_type": "code",
   "execution_count": null,
   "id": "1e18db69-2c61-4a7e-a1d1-e933315526fc",
   "metadata": {},
   "outputs": [],
   "source": [
    "from gseapy.plot import gseaplot\n",
    "\n",
    "term = 'mitochondrial ATP synthesis coupled electron transport (GO:0042775)'\n",
    "gseaplot(rank_metric=pre_res.ranking, term=term, \n",
    "         **pre_res.results[term], figsize=(3.5,5.5), cmap='RdBu', ofname='../../figures/plots/fig2/mito_atp_syn_gsea.svg')"
   ]
  },
  {
   "cell_type": "code",
   "execution_count": null,
   "id": "97a1bbf6-e0f4-4ab8-9604-3d6e8fbacec1",
   "metadata": {},
   "outputs": [],
   "source": [
    "from gseapy.plot import gseaplot\n",
    "\n",
    "term = 'mitochondrial ATP synthesis coupled electron transport (GO:0042775)'\n",
    "gseaplot(rank_metric=pre_res.ranking, term=term, \n",
    "         **pre_res.results[term], figsize=(3.5,5.5), cmap='RdBu')"
   ]
  },
  {
   "cell_type": "code",
   "execution_count": null,
   "id": "d874f9a8-7939-4923-8dee-1d79ef0920a8",
   "metadata": {},
   "outputs": [],
   "source": [
    "pre_res.res2d.sort_values(by=\"NES\", ascending=True).iloc[:40]"
   ]
  },
  {
   "cell_type": "code",
   "execution_count": null,
   "id": "ee4622ca-7cd5-4074-ad9d-a15857e72ffa",
   "metadata": {},
   "outputs": [],
   "source": [
    "pre_res.res2d.sort_values(by=\"NES\", ascending=False).iloc[:40]"
   ]
  },
  {
   "cell_type": "code",
   "execution_count": null,
   "id": "bbd4e2b9-135a-4015-b44a-a7f7d5b242b9",
   "metadata": {},
   "outputs": [],
   "source": [
    "exp_comd_df.to_csv('../../figures/figure_data/fig2/tpm_comd_major_tissue.csv')"
   ]
  },
  {
   "cell_type": "code",
   "execution_count": null,
   "id": "2d220405-5978-4732-9239-c2e445fa9d31",
   "metadata": {},
   "outputs": [],
   "source": [
    "adjust_text_dict = {\n",
    "    'expand_points': (0, 0),\n",
    "    'arrowprops': {\n",
    "        'arrowstyle': '-',\n",
    "        'color': 'k',\n",
    "        'lw':0.3\n",
    "    }\n",
    "}\n",
    "gene='MT-RNR2'\n",
    "(ggplot(exp_comd_df, aes('comd_coef', gene, label='tissue'))\n",
    "    + geom_point(size=1, color=\"dodgerblue\")\n",
    "    + theme_bw()\n",
    "    + theme(figure_size=(6, 6), axis_line=element_line(),#panel_grid_major = element_blank(),\n",
    "                    #panel_grid_minor = element_blank(),\n",
    "                    #panel_border = element_blank(),\n",
    "                    panel_background = element_blank())\n",
    "    + scale_y_log10()\n",
    "    + geom_text(aes(label='tissue'), adjust_text = adjust_text_dict, size=7)\n",
    "    + labs( y=gene+' TPM'))"
   ]
  },
  {
   "cell_type": "code",
   "execution_count": null,
   "id": "1db2fd74-f90f-4919-951d-82ec76a3008c",
   "metadata": {},
   "outputs": [],
   "source": [
    "adjust_text_dict = {\n",
    "    'expand_points': (0, 0),\n",
    "    'arrowprops': {\n",
    "        'arrowstyle': '-',\n",
    "        'color': 'k',\n",
    "        'lw':0.3\n",
    "    }\n",
    "}\n",
    "gene='NDUFB3'\n",
    "(ggplot(exp_comd_df, aes('comd_coef', gene, label='tissue'))\n",
    "    + geom_point(size=1, color=\"dodgerblue\")\n",
    "    + theme_bw()\n",
    "    + theme(figure_size=(6, 6), axis_line=element_line(),#panel_grid_major = element_blank(),\n",
    "                    #panel_grid_minor = element_blank(),\n",
    "                    #panel_border = element_blank(),\n",
    "                    panel_background = element_blank())\n",
    "    + scale_y_log10()\n",
    "    + geom_text(aes(label='tissue'), adjust_text = adjust_text_dict, size=7)\n",
    "    + labs( y=gene+' TPM'))"
   ]
  },
  {
   "cell_type": "markdown",
   "id": "e0dddce1-356b-49a1-a798-1c7bec636708",
   "metadata": {},
   "source": [
    "## GSEA all results: human - between and across tissues plus mouse"
   ]
  },
  {
   "cell_type": "code",
   "execution_count": null,
   "id": "0b93542e-ae54-4b30-ba30-20290ee68151",
   "metadata": {},
   "outputs": [],
   "source": [
    "pre_res_mouse = pd.read_csv(data_path + 'gsea_tabula_muris_comd_coef_results.csv',index_col=0)\n",
    "pre_res_human = pd.read_csv(data_path +'gsea_human_comd_results.csv',index_col=0)"
   ]
  },
  {
   "cell_type": "code",
   "execution_count": null,
   "id": "b24d430d-a0b0-46ac-9a9c-830668866246",
   "metadata": {},
   "outputs": [],
   "source": [
    "pre_res_mouse['tissue'] = 'mouse'\n",
    "pre_res_human['tissue'] = 'human'"
   ]
  },
  {
   "cell_type": "code",
   "execution_count": null,
   "id": "c8f90023-1c08-47ea-85c3-5cd55fd1f1c9",
   "metadata": {},
   "outputs": [],
   "source": [
    "pre_res_human.reset_index()[pre_res_human.reset_index()['Term'].str.contains('translation')]"
   ]
  },
  {
   "cell_type": "code",
   "execution_count": null,
   "id": "2484d033-9ea8-4c31-ad4e-27a727f339d6",
   "metadata": {},
   "outputs": [],
   "source": [
    "pre_res_tissues_df = pd.read_csv(data_path + 'gsea_within_tissues_human_comd_coef.csv', index_col=0).set_index('Term')\n",
    "pre_res_tissues_df"
   ]
  },
  {
   "cell_type": "code",
   "execution_count": null,
   "id": "6b7b5448-6a9c-4e5c-8806-5b4347ad7e99",
   "metadata": {},
   "outputs": [],
   "source": [
    "pre_res_list = [pre_res_human, pre_res_mouse, pre_res_tissues_df]"
   ]
  },
  {
   "cell_type": "code",
   "execution_count": null,
   "id": "8846720d-3454-4499-915a-79b8d81281b7",
   "metadata": {},
   "outputs": [],
   "source": [
    "fdr_thresh=0.01\n",
    "pre_res_filtered_list = []\n",
    "#n=5\n",
    "\n",
    "for pre_res in pre_res_list:\n",
    "    pre_res_filtered = pre_res[pre_res['FDR q-val']<=fdr_thresh].sort_values(by='NES')\n",
    "    if(len(pre_res_filtered) == 0):\n",
    "        continue\n",
    "    #Select top and bottom n pathways \n",
    "    #pre_res_filtered = pre_res_filtered.iloc[np.r_[:n, len(pre_res_filtered)-n:len(pre_res_filtered)],:]\n",
    "    pre_res_filtered_list.append(pre_res_filtered)"
   ]
  },
  {
   "cell_type": "code",
   "execution_count": null,
   "id": "c1c2a4c3-30f3-4b33-b88e-9c28129ffeac",
   "metadata": {},
   "outputs": [],
   "source": [
    "pre_res_all_df = pd.concat(pre_res_filtered_list, join='outer').reset_index()\n",
    "pre_res_all_df"
   ]
  },
  {
   "cell_type": "code",
   "execution_count": null,
   "id": "310b7f33-7a1e-4138-b7da-11d305effaef",
   "metadata": {},
   "outputs": [],
   "source": [
    "pre_res_all_piv = pre_res_all_df.pivot(columns='Term', values='NES',index='tissue')\n",
    "pre_res_all_piv.columns = pd.Series(pre_res_all_piv.columns).apply(lambda el: el.split('(G')[0])\n",
    "pre_res_all_piv = pre_res_all_piv.T\n",
    "pre_res_all_piv"
   ]
  },
  {
   "cell_type": "markdown",
   "id": "58777a57-3c3b-4cac-aedc-37d5ee8ac34a",
   "metadata": {},
   "source": [
    "Select pathways common to both human and mouse (across tissues only)"
   ]
  },
  {
   "cell_type": "code",
   "execution_count": null,
   "id": "5ee4047c-7326-42d8-bad9-fef03d58385e",
   "metadata": {},
   "outputs": [],
   "source": [
    "pre_res_all_piv_filtered = pre_res_all_piv.copy()\n",
    "pre_res_all_piv_filtered = pre_res_all_piv_filtered[~((pre_res_all_piv_filtered['human'].isna())|(pre_res_all_piv_filtered['mouse'].isna()))]\n",
    "pre_res_all_piv_filtered = pre_res_all_piv_filtered.rename({'human':'HUMAN', 'mouse':'MOUSE'}, axis=1)"
   ]
  },
  {
   "cell_type": "code",
   "execution_count": null,
   "id": "02ff5e04-a4ed-43f3-ab58-5741402af0a9",
   "metadata": {
    "tags": []
   },
   "outputs": [],
   "source": [
    "%%R -w 1200 -h 900 -i pre_res_all_piv_filtered\n",
    "library(devtools)\n",
    "library(pheatmap)\n",
    "pheatmap(pre_res_all_piv_filtered, na_col = \"grey\", cluster_rows=FALSE, cluster_cols=FALSE, fontsize=12)"
   ]
  },
  {
   "cell_type": "markdown",
   "id": "c5c102f6-2bd4-49c4-bdb9-9bc9ad27cd0f",
   "metadata": {},
   "source": [
    "Remove tissues with all Nas:"
   ]
  },
  {
   "cell_type": "code",
   "execution_count": null,
   "id": "a1dfe287-c003-407a-85a6-df58986bc8e1",
   "metadata": {},
   "outputs": [],
   "source": [
    "pre_res_all_piv_filtered = pre_res_all_piv_filtered.dropna(axis=1,thresh=1)\n",
    "pre_res_all_piv_filtered"
   ]
  },
  {
   "cell_type": "code",
   "execution_count": null,
   "id": "b7da10de-927b-4100-bb99-571803a146bd",
   "metadata": {},
   "outputs": [],
   "source": [
    "pre_res_all_piv_filtered.to_csv('../../figures/figure_data/fig2/common_pathways_mouse_human_within_tissues.csv')"
   ]
  },
  {
   "cell_type": "code",
   "execution_count": null,
   "id": "96084ac4-c758-4079-a785-6d4cbf27015e",
   "metadata": {},
   "outputs": [],
   "source": []
  }
 ],
 "metadata": {
  "kernelspec": {
   "display_name": "Python [conda env:anaconda-mrna_halflife2]",
   "language": "python",
   "name": "conda-env-anaconda-mrna_halflife2-py"
  },
  "language_info": {
   "codemirror_mode": {
    "name": "ipython",
    "version": 3
   },
   "file_extension": ".py",
   "mimetype": "text/x-python",
   "name": "python",
   "nbconvert_exporter": "python",
   "pygments_lexer": "ipython3",
   "version": "3.7.6"
  }
 },
 "nbformat": 4,
 "nbformat_minor": 5
}
